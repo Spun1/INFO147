{
 "cells": [
  {
   "cell_type": "markdown",
   "metadata": {},
   "source": [
    "# Actividad práctica \n",
    "\n",
    "### Instrucciones\n",
    "- Escriba las rutinas de Python necesarias para resolver los problemas de cada punto\n",
    "- Siga las instrucciones y conteste donde se pida\n",
    "- Entregue el notebook con sus respuestas al correo: phuijse@inf.uach.cl\n",
    "- El trabajo es individual"
   ]
  },
  {
   "cell_type": "markdown",
   "metadata": {},
   "source": [
    "Considere el dataset de diagnóstico de cancer de mama de la Universidad de Wisconsin"
   ]
  },
  {
   "cell_type": "code",
   "execution_count": null,
   "metadata": {
    "scrolled": true
   },
   "outputs": [],
   "source": [
    "%%bash\n",
    "wget -nc -c https://archive.ics.uci.edu/ml/machine-learning-databases/breast-cancer-wisconsin/wdbc.data\n",
    "wget -nc -c https://archive.ics.uci.edu/ml/machine-learning-databases/breast-cancer-wisconsin/wdbc.names"
   ]
  },
  {
   "cell_type": "markdown",
   "metadata": {},
   "source": [
    "#### Lea el *readme* y describa el dataset en términos cualitativos \n",
    "\n"
   ]
  },
  {
   "cell_type": "code",
   "execution_count": null,
   "metadata": {},
   "outputs": [],
   "source": []
  },
  {
   "cell_type": "markdown",
   "metadata": {},
   "source": [
    "#### Importe el dataset usando `numpy` o `pandas`"
   ]
  },
  {
   "cell_type": "code",
   "execution_count": null,
   "metadata": {},
   "outputs": [],
   "source": []
  },
  {
   "cell_type": "markdown",
   "metadata": {},
   "source": [
    "#### Caracterice estadísticamente cada uno de los atributos\n",
    "1. Calcule la media, varianza, simetría y curtosis para cada atributo usando (a) todos los datos y (b) por separado para tumores benignos y malignos. Explique el significado de los valores obtenidos. ¿Cuales atributos se acomodan a una normal?\n",
    "1. Visualice la distribución empírica de cada atributo con `matplotlib` usando (a) todos los datos y (b) por separado para tumores benignos y malignos. ¿Qué tipo de distribución sería apropiada para ajustar cada atributo? ¿Puede diferenciar el tipo de tumor usando los atributos de forma aislada?"
   ]
  },
  {
   "cell_type": "code",
   "execution_count": null,
   "metadata": {},
   "outputs": [],
   "source": []
  },
  {
   "cell_type": "markdown",
   "metadata": {},
   "source": [
    "#### Búsqueda de correlaciones\n",
    "\n",
    "1. Construya una matriz de *scatter plots* usando `matplotlib` o [`pandas`](https://pandas.pydata.org/pandas-docs/stable/user_guide/visualization.html#scatter-matrix-plot) entre todos los pares de atributos. Use un color distinto para los tumores malignos y los benignos.  \n",
    "1. Use un modelo de recta (dos parámetros) y ajustelo a cada par de atributos distintos. Muestre la recta obtenida en cada uno de los *scatter plots*. Añada una caja de texto con el valor del estadístico $r$. \n",
    "1. ¿Cuáles pares de variables están más correlacionadas? Justifique ¿Cuáles pares de variables separan mejor los tipos de tumor?"
   ]
  },
  {
   "cell_type": "code",
   "execution_count": null,
   "metadata": {},
   "outputs": [],
   "source": []
  },
  {
   "cell_type": "markdown",
   "metadata": {},
   "source": [
    "#### Regresión logística: Teórico\n",
    "\n",
    "Sea un problema de clasificación de $M$ observaciones $\\{\\vec x_i, y_i\\}$ donde $\\vec x_i \\in \\mathbb{R}^D$ (D atributos) y $y_i \\in \\{0, 1\\}$ (clasificación binaria)\n",
    "\n",
    "Se propone el siguiente modelo con $D+1$ parámetros\n",
    "\n",
    "$$\n",
    "y_i \\approx \\mathcal{S} \\left(\\theta_0 + \\sum_{j=1}^D \\theta_j x_{ij}\\right),\n",
    "$$\n",
    "\n",
    "donde $\\mathcal{S}(z) = \\frac{1}{1+\\exp(-z)}$\n",
    "\n",
    "> Asuma que las observaciones son iid y que $y_i$ se  distribuye Bernoulli \n",
    "\n",
    "La salida de este clasificador es un valor en $[0, 1]$. Para tomar un decisión binaria se debe seleccionar un umbral $\\mathcal{T}$ tal que\n",
    "\n",
    "$$\n",
    "d_i = \n",
    "\\begin{cases} \n",
    "\\text{maligno} (0), & \\text{si } p(y_i|\\theta, \\vec x_i) < \\mathcal{T} \\\\ \n",
    "\\text{benigno} (1), & \\text{si } p(y_i|\\theta, \\vec x_i) \\geq \\mathcal{T}\n",
    "\\end{cases}\n",
    "$$\n",
    "\n",
    "Una vez seleccionado el umbral se puede contar la cantidad de \n",
    "- True positives (TP): Tumores benignos clasificados como benignos\n",
    "- True negative (TN): Tumores malignos clasificados como malignos\n",
    "- False positives (FP): Tumores malignos clasificados como benignos\n",
    "- False negative (FN): Tumores  benignos clasificados como malignos\n",
    "\n",
    "Estas métricas son la base para construir una \"tabla de confusión\" para el clasificador\n",
    "\n",
    "|Clasificado como/En realidad era|Positivo|Negativo|\n",
    "|---|---|---|\n",
    "|Positivo:|TP | FP |\n",
    "|Negativo:| FN | TN |\n",
    "\n",
    "Actividades:\n",
    "1. Obtenga una expresión simplificada para la función de costo: máximo logaritmo de la verosimilitud \n",
    "1. Obtenga una expresión simplificada para el gradiente de la función de costo con respecto a $\\theta$\n",
    "1. Investigue sobre las métricas para clasificación binaria: *precision*, *recall*, *f1* y *accuracy*. Explique cada una y discuta sobre las ventajas de usar el puntaje f1 en lugar del *accuracy* de un clasificador para evaluar su desempeño\n",
    "\n",
    "Hints\n",
    "- $d\\mathcal{S}(z)/d\\theta = \\mathcal{S}(z)(1-\\mathcal{S}(z))$\n",
    "- $\\log(1 - \\mathcal{S}(z)) = \\log \\mathcal{S}(z) -z$ "
   ]
  },
  {
   "cell_type": "code",
   "execution_count": null,
   "metadata": {},
   "outputs": [],
   "source": []
  },
  {
   "cell_type": "markdown",
   "metadata": {},
   "source": [
    "#### Regresión logística: Práctico\n",
    "\n",
    "1. Implemente en Python la función de costo y su gradiente para el problema de clasificación de tumores\n",
    "1. Divida el conjunto de datos en subconjuntos de entrenamiento y prueba seleccionados aleatoriamente pero manteniendo la distribución de las clases (puede usar [`sklearn.model_selection.StratifiedShuffleSplit`](https://scikit-learn.org/stable/modules/generated/sklearn.model_selection.StratifiedShuffleSplit.html#sklearn.model_selection.StratifiedShuffleSplit))\n",
    "1. Entrene un regresor logístico usando `scipy.optimize`. Seleccione un método de optimización justificando su decisión. Calibre el método seleccionado. Seleccione el modelo que minimiza el error de prueba.\n",
    "1. Seleccione el umbral $\\mathcal{T}$ que maximice el puntaje f1 y muestre la tabla de confusión obtenida en el conjunto de prueba (puede usar las funciones de [`sklearn.metrics`](https://scikit-learn.org/stable/modules/classes.html#module-sklearn.metrics))\n",
    "1. Proponga e implemente una metodología para cuantificar la incerteza de su clasificador\n",
    "\n",
    "Recomendaciones\n",
    "- Estandarize los atributos antes de entrenar el predictor \n",
    "- Cuide de no evaluar $\\log(0)$\n",
    "- [`np.logaddexp`](https://docs.scipy.org/doc/numpy/reference/generated/numpy.logaddexp.html)\n"
   ]
  },
  {
   "cell_type": "code",
   "execution_count": null,
   "metadata": {},
   "outputs": [],
   "source": []
  }
 ],
 "metadata": {
  "kernelspec": {
   "display_name": "Python 3",
   "language": "python",
   "name": "python3"
  },
  "language_info": {
   "codemirror_mode": {
    "name": "ipython",
    "version": 3
   },
   "file_extension": ".py",
   "mimetype": "text/x-python",
   "name": "python",
   "nbconvert_exporter": "python",
   "pygments_lexer": "ipython3",
   "version": "3.7.3"
  }
 },
 "nbformat": 4,
 "nbformat_minor": 2
}
