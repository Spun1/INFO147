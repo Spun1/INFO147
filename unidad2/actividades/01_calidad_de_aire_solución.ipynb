{
 "cells": [
  {
   "cell_type": "markdown",
   "metadata": {},
   "source": [
    "## Actividad práctica: Predicción de calidad de aire\n",
    "\n",
    "Descargue e importe el siguiente dataset usando pandas\n",
    "\n",
    "    https://archive.ics.uci.edu/ml/datasets/Air+Quality\n",
    "\n",
    "El objetivo de esta actividad es entrenar un modelo para predecir \n",
    "- la concentración de Monóxido de Carbono (CO)\n",
    "- la concentración de Benzeno (C6H6)\n",
    "\n",
    "> Observe como se comportan los datos, en base a esto proponga un modelo lineal en sus parámetros\n",
    "\n",
    "Para entrenar su predictor use\n",
    "- los primeros dos meses de datos para ajustar su predictor\n",
    "- el tercer mes de datos para validar sus parámetros \n",
    "\n",
    "\n",
    "Nota: Un valor de \"-200\" corresponde a un *missing value*"
   ]
  },
  {
   "cell_type": "code",
   "execution_count": null,
   "metadata": {
    "ExecuteTime": {
     "end_time": "2020-06-28T20:29:44.352158Z",
     "start_time": "2020-06-28T20:29:39.382015Z"
    }
   },
   "outputs": [],
   "source": [
    "%matplotlib notebook\n",
    "import matplotlib.pyplot as plt\n",
    "import pandas as pd\n",
    "import numpy as np"
   ]
  },
  {
   "cell_type": "markdown",
   "metadata": {},
   "source": [
    "Importar datos"
   ]
  },
  {
   "cell_type": "code",
   "execution_count": null,
   "metadata": {
    "ExecuteTime": {
     "end_time": "2020-06-28T20:43:16.140684Z",
     "start_time": "2020-06-28T20:43:13.569298Z"
    }
   },
   "outputs": [],
   "source": [
    "!wget -c https://archive.ics.uci.edu/ml/machine-learning-databases/00360/AirQualityUCI.zip\n",
    "!unzip AirQualityUCI.zip\n",
    "\n",
    "df = pd.read_csv(\"AirQualityUCI.csv\", sep=';', decimal=',')\n",
    "df = df[df.columns[:-2]] \n",
    "df.dropna(inplace=True)\n",
    "df[\"Date_time\"] = pd.to_datetime(df['Date'] + ' ' + df['Time'], format=\"%d/%m/%Y %H.%M.%S\")\n",
    "df.drop([\"Date\", \"Time\"], axis=1, inplace=True)\n",
    "df.head(n=5)\n",
    "df.set_index(\"Date_time\", inplace=True)\n",
    "\n",
    "!rm AirQualityUCI*"
   ]
  },
  {
   "cell_type": "markdown",
   "metadata": {},
   "source": [
    "Visualizar primeros dos meses para la variable CO\n",
    "\n",
    "Existe un comportamiento periódico diario y semanal\n",
    "\n",
    "Un modelo sinusoidal podría ser apropiado"
   ]
  },
  {
   "cell_type": "code",
   "execution_count": null,
   "metadata": {
    "ExecuteTime": {
     "end_time": "2020-06-28T21:04:25.613793Z",
     "start_time": "2020-06-28T21:04:25.531738Z"
    }
   },
   "outputs": [],
   "source": [
    "sub_df = df[df[\"CO(GT)\"] > -200].loc[:pd.to_datetime(\"06/10/2004 18:00:00\")][\"CO(GT)\"]\n",
    "time, data = sub_df.index, sub_df.values\n",
    "\n",
    "fig, ax = plt.subplots(figsize=(6, 4), tight_layout=True)\n",
    "ax.plot(time, data)\n",
    "fig.autofmt_xdate()"
   ]
  },
  {
   "cell_type": "code",
   "execution_count": null,
   "metadata": {
    "ExecuteTime": {
     "end_time": "2020-06-28T21:04:29.033885Z",
     "start_time": "2020-06-28T21:04:28.941326Z"
    }
   },
   "outputs": [],
   "source": [
    "data_float = data.astype('float32')\n",
    "time_float = np.array([t.timestamp()/(24*3600) - time[0].timestamp()/(24*3600) for t in time])"
   ]
  },
  {
   "cell_type": "code",
   "execution_count": null,
   "metadata": {
    "ExecuteTime": {
     "end_time": "2020-06-28T21:07:18.788354Z",
     "start_time": "2020-06-28T21:07:18.684290Z"
    }
   },
   "outputs": [],
   "source": [
    "fig, ax = plt.subplots(2, 1, figsize=(6, 4), tight_layout=True)\n",
    "mask = time_float <= 60 # Primer mes\n",
    "ax[0].plot(time_float[mask], data[mask], label='data')\n",
    "\n",
    "def build_phi(time, freqs=[*range(10), 1/3.5, 1/7, 1/14]):\n",
    "    phi_cos = np.stack([np.cos(2*np.pi*time*f) for f in [0]+freqs])\n",
    "    phi_sin = np.stack([np.sin(2*np.pi*time*f) for f in freqs])\n",
    "    return np.concatenate((phi_cos, phi_sin), axis=0).T\n",
    "\n",
    "X_lstsq = build_phi(time_float[mask])\n",
    "theta, MSE, rank, singval = np.linalg.lstsq(X_lstsq, data[mask], rcond=None)\n",
    "\n",
    "ax[0].plot(time_float[mask], np.dot(X_lstsq, theta), label='modelo')\n",
    "ax[0].legend()\n",
    "ax[1].plot(time_float[mask], np.abs(data[mask] - np.dot(X_lstsq, theta)))\n",
    "ax[1].set_ylabel('Error absoluto');"
   ]
  },
  {
   "cell_type": "code",
   "execution_count": null,
   "metadata": {
    "ExecuteTime": {
     "end_time": "2020-06-28T21:07:07.744456Z",
     "start_time": "2020-06-28T21:07:07.646352Z"
    }
   },
   "outputs": [],
   "source": [
    "fig, ax = plt.subplots(2, 1, figsize=(6, 3), tight_layout=True)\n",
    "mask = time_float > 60\n",
    "ax[0].plot(time_float[mask], data[mask])\n",
    "X_lstsq = build_phi(time_float[mask])\n",
    "mse = np.mean(np.power(np.dot(X_lstsq, theta) - data[mask], 2))\n",
    "display(f\"Error cuadrático medio {mse}\")\n",
    "ax[0].plot(time_float[mask], np.dot(X_lstsq, theta));\n",
    "\n",
    "x_smooth = np.linspace(60, 90, num=1000)\n",
    "X_lstsq = build_phi(x_smooth)\n",
    "ax[1].plot(x_smooth, np.dot(X_lstsq, theta));"
   ]
  },
  {
   "cell_type": "code",
   "execution_count": null,
   "metadata": {},
   "outputs": [],
   "source": []
  }
 ],
 "metadata": {
  "kernelspec": {
   "display_name": "Python 3",
   "language": "python",
   "name": "python3"
  },
  "language_info": {
   "codemirror_mode": {
    "name": "ipython",
    "version": 3
   },
   "file_extension": ".py",
   "mimetype": "text/x-python",
   "name": "python",
   "nbconvert_exporter": "python",
   "pygments_lexer": "ipython3",
   "version": "3.8.2"
  },
  "toc": {
   "base_numbering": 1,
   "nav_menu": {},
   "number_sections": true,
   "sideBar": true,
   "skip_h1_title": false,
   "title_cell": "Table of Contents",
   "title_sidebar": "Contents",
   "toc_cell": false,
   "toc_position": {},
   "toc_section_display": true,
   "toc_window_display": false
  }
 },
 "nbformat": 4,
 "nbformat_minor": 4
}
