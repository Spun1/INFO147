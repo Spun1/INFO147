{
 "cells": [
  {
   "cell_type": "code",
   "execution_count": null,
   "metadata": {},
   "outputs": [],
   "source": [
    "%%HTML\n",
    "<!-- Mejorar visualización en proyector -->\n",
    "<style>\n",
    ".rendered_html {font-size: 1.2em; line-height: 150%;}\n",
    "div.prompt {min-width: 0ex; padding: 0px;}\n",
    ".container {width:95% !important;}\n",
    "</style>"
   ]
  },
  {
   "cell_type": "code",
   "execution_count": null,
   "metadata": {},
   "outputs": [],
   "source": [
    "%autosave 0\n",
    "%matplotlib notebook\n",
    "import numpy as np\n",
    "import matplotlib.pyplot as plt\n",
    "from IPython.display import display"
   ]
  },
  {
   "cell_type": "markdown",
   "metadata": {},
   "source": [
    "# Unidad 2: Computación científica con Python\n",
    "\n",
    "\n",
    "En la **Unidad 1** estudiamos el *stack* de librerías de **Python 3** para \n",
    "- Lectura y procesamiento de datos \n",
    "- Manipulación numérica de datos\n",
    "- Visualización de datos\n",
    "\n",
    "Estos son los ingredientes para resolver problemas de matemáticas aplicadas y ciencias de la computación\n",
    "\n",
    "En las próximas clases nos enfocaremos en un problema tal vez simple pero que se encuentra en casi todas las ciencias: **resolver sistemas de ecuaciones**\n",
    "\n",
    "***"
   ]
  },
  {
   "cell_type": "markdown",
   "metadata": {},
   "source": [
    "# Sistemas de ecuaciones lineales\n",
    "\n",
    "Comenzaremos con los sistemas más simples: **Sistemas lineales en sus parámetros**\n",
    "\n",
    "$$\n",
    "\\begin{align}\n",
    "a_{11} x_{1} + a_{12} x_{2} + \\ldots + a_{1N} x_N &= b_1 \\nonumber \\\\\n",
    "a_{21} x_{1} + a_{22} x_{2} + \\ldots + a_{2N} x_N &= b_2  \\nonumber \\\\\n",
    "\\vdots  \\nonumber \\\\\n",
    "a_{M1} x_{1} + a_{M2} x_{2} + \\ldots + a_{MN} x_N &= b_M  \\nonumber \\\\\n",
    "\\end{align}\n",
    "$$\n",
    "\n",
    "- Este es un sistema con $N$ incognitas y $M$ ecuaciones\n",
    "- Existen $NM + M$ parámetros que asumimos conocidos\n",
    "- Se puede escribir como un sistema matricial\n",
    "$$\n",
    "A x = b\n",
    "$$\n",
    "- ¿Cómo se resuelve un sistema de este tipo?\n",
    "\n",
    "\n",
    "### Ejemplo\n",
    "\n",
    "Sea el siguiente sistema\n",
    "\n",
    "$$\n",
    "\\begin{align}\n",
    "-x_{1} + 5 x_{2} &= 2 \\nonumber \\\\\n",
    "2 x_{1} + 3 x_{2} &= 1  \\nonumber \n",
    "\\end{align}\n",
    "$$\n",
    "\n",
    "¿Cúantas ecuaciones e incognitas tiene? ¿Cúantos parámetros tiene?\n",
    "\n",
    "¿Cómo se ve geométricamente este sistema? ¿Cúal es la solución?"
   ]
  },
  {
   "cell_type": "code",
   "execution_count": null,
   "metadata": {},
   "outputs": [],
   "source": [
    "fig, ax = plt.subplots(figsize=(6, 4), tight_layout=True)\n",
    "x1 = np.linspace(-0.5, 0.5, num=100)\n",
    "x2_1 = (2 + x1)/5\n",
    "x2_2 = (1 - 2*x1)/3\n",
    "ax.plot(x1, x2_1, 'k-', lw=2, label='Eq. 1')\n",
    "ax.plot(x1, x2_2, 'k--', lw=2, label='Eq. 2')\n",
    "ax.grid(); ax.legend();\n",
    "ax.set_xlabel(r'$x_1$'); ax.set_ylabel(r'$x_2$');"
   ]
  },
  {
   "cell_type": "markdown",
   "metadata": {},
   "source": [
    "## Sistema cuadrado\n",
    "\n",
    "Este es un caso particular conocido como **sistema cuadrado** donde $N=M$\n",
    "\n",
    "Estos sistemas pueden resolverse usando\n",
    "\n",
    "$$\n",
    "x = A^{-1} b\n",
    "$$\n",
    "\n",
    "donde $A A^{-1} = I$\n",
    "\n",
    "# Algebra lineal con NumPy y SciPy\n",
    "\n",
    "Numpy nos ofrece el módulo [`linalg`](https://docs.scipy.org/doc/numpy/reference/routines.linalg.html) con funciones de algebra lineal\n",
    "\n",
    "En particular veremos la sección *Solving equations and inverting matrices*\n",
    "\n",
    "Para más funciónes podemos usar el modulo [`linalg`](https://docs.scipy.org/doc/scipy/reference/linalg.html) de SciPy\n",
    "\n",
    "#### Invirtiendo una matriz con `linalg`"
   ]
  },
  {
   "cell_type": "code",
   "execution_count": null,
   "metadata": {},
   "outputs": [],
   "source": [
    "np.linalg.inv?"
   ]
  },
  {
   "cell_type": "code",
   "execution_count": null,
   "metadata": {},
   "outputs": [],
   "source": [
    "A = np.array([[-1, 5],[2,3]])\n",
    "b = np.array([2, 1])\n",
    "\n",
    "np.dot(np.linalg.inv(A), b)"
   ]
  },
  {
   "cell_type": "markdown",
   "metadata": {},
   "source": [
    "En este caso la inversa se podía calcular como\n",
    "$$\n",
    "A = \\begin{pmatrix} a,b \\\\c,d\\end{pmatrix} \\quad A^{-1} = \\frac{1}{|A|}  \\begin{pmatrix} d,-c \\\\-b,a\\end{pmatrix} \n",
    "$$\n",
    "\n",
    "donde $|A| = ad - bc$ es el determinante de $A$\n",
    "\n",
    "En el caso general usaríamos [eliminación gaussiana](https://en.wikipedia.org/wiki/Gaussian_elimination)\n",
    "***\n",
    "El sistema tiene solución siempre y cuando $A$ sea invertible (no-singular) \n",
    "\n",
    "¿Cómo verificamos que $A\\in \\mathbb{R}^{N\\times N}$ es invertible?\n",
    "- Determinante distinto de cero\n",
    "- Rango igual a $N$  (El rango de una matriz es el número de columnas LI)\n",
    "\n",
    "Si esto no se cumple $A$ no se puede invertir \n",
    "\n",
    "#### Calculando el determinante con `linalg`"
   ]
  },
  {
   "cell_type": "code",
   "execution_count": null,
   "metadata": {},
   "outputs": [],
   "source": [
    "np.linalg.det?"
   ]
  },
  {
   "cell_type": "code",
   "execution_count": null,
   "metadata": {},
   "outputs": [],
   "source": [
    "np.linalg.det(A)"
   ]
  },
  {
   "cell_type": "markdown",
   "metadata": {},
   "source": [
    "### Ejemplo: Sistema sin solución\n",
    "\n",
    "$$\n",
    "\\begin{align}\n",
    "x_{1} + 5 x_{2} &= 2 \\nonumber \\\\\n",
    "2 x_{1} + 10 x_{2} &= 6  \\nonumber \n",
    "\\end{align}\n",
    "$$\n",
    "\n",
    "### Ejemplo: Sistema con infinitas soluciones\n",
    "\n",
    "$$\n",
    "\\begin{align}\n",
    "x_{1} + 5 x_{2} &= 2 \\nonumber \\\\\n",
    "2 x_{1} + 10 x_{2} &= 4  \\nonumber \n",
    "\\end{align}\n",
    "$$"
   ]
  },
  {
   "cell_type": "code",
   "execution_count": null,
   "metadata": {},
   "outputs": [],
   "source": [
    "A = np.array([[1, 5],[2,10]])\n",
    "b = np.array([2, 6])\n",
    "display(\"Determinante: {0}\".format(np.linalg.det(A)))\n",
    "# np.dot(np.linalg.inv(A), b)"
   ]
  },
  {
   "cell_type": "code",
   "execution_count": null,
   "metadata": {},
   "outputs": [],
   "source": [
    "fig, ax = plt.subplots(figsize=(6, 4), tight_layout=True)\n",
    "x1 = np.linspace(-0.5, 0.5, num=100)\n",
    "x2_1 = (2 - x1)/5\n",
    "x2_2 = (6 - 2*x1)/10\n",
    "ax.plot(x1, x2_1, 'k-', lw=2, label='Eq. 1')\n",
    "ax.plot(x1, x2_2, 'k--', lw=2, label='Eq. 2')\n",
    "ax.grid(); ax.legend();\n",
    "ax.set_xlabel(r'$x_1$'); ax.set_ylabel(r'$x_2$');"
   ]
  },
  {
   "cell_type": "markdown",
   "metadata": {},
   "source": [
    "Incluso con determinante distinto de cero podríamos no ser capaces de resolver un sistema numéricamente sin errores\n",
    "\n",
    "#### Análisis de errores\n",
    "\n",
    "Imaginemos una pequeña variación en $b$, $\\delta b$ que a su vez provoca una pequeña variación en $x$, $\\delta x$\n",
    "\n",
    "Se puede encontrar una cota que compara el error relativo de $b$ y $x$\n",
    "\n",
    "$$\n",
    "\\frac{\\| \\delta x \\|}{\\|x\\|} \\leq \\frac{\\| A^{-1} \\|  \\|\\delta b\\|}{\\|x\\|}  = \\|A^{-1}\\| \\|A\\| \\frac{\\| \\delta b \\|}{\\|b\\|} \n",
    "$$\n",
    "donde se uso que $A \\delta x = \\delta b$ (linealidad)\n",
    "\n",
    "Esto significa que un pequeño error relativo en $b$ puede causar un gran error en $x$ \n",
    "\n",
    "El estimador de $\\|A^{-1}\\| \\|A\\|$ se llama *condition number*\n",
    "\n",
    "#### Condition number\n",
    "\n",
    "Un sistema se dice \"bien condicionado\" si este valor es cercano a $1$. Si es mucho mayor a $1$ el sistema es \"mal condicionado\"\n",
    "\n",
    "A veces se retorna el recíproco del *condition number*: *RCOND*"
   ]
  },
  {
   "cell_type": "code",
   "execution_count": null,
   "metadata": {},
   "outputs": [],
   "source": [
    "np.linalg.cond?"
   ]
  },
  {
   "cell_type": "code",
   "execution_count": null,
   "metadata": {},
   "outputs": [],
   "source": [
    "A = np.array([[-1, 5],[2,3]])\n",
    "b = np.array([2, 1])\n",
    "np.linalg.cond(A, p='fro')"
   ]
  },
  {
   "cell_type": "code",
   "execution_count": null,
   "metadata": {},
   "outputs": [],
   "source": [
    "A = np.arange(9).reshape(3, 3)\n",
    "np.linalg.cond(A, p='fro')"
   ]
  },
  {
   "cell_type": "markdown",
   "metadata": {},
   "source": [
    "#### Norma de una matriz con `linalg`\n",
    "\n",
    "De forma similar a los vectores se puede definir una norma para medir el \"tamaño\" de una matriz\n",
    "\n",
    "La más típica es la [norma de Frobenius](https://www.sciencedirect.com/topics/engineering/frobenius-norm)\n",
    "$$\n",
    "\\|A \\|_F = \\sqrt{\\sum_{i,j} a_{ij}^2}\n",
    "$$"
   ]
  },
  {
   "cell_type": "code",
   "execution_count": null,
   "metadata": {},
   "outputs": [],
   "source": [
    "np.linalg.norm(A, ord='fro')"
   ]
  },
  {
   "cell_type": "markdown",
   "metadata": {},
   "source": [
    "### Resolviendo sistemas cuadrados y  lineales eficientemente\n",
    "\n",
    "En general nos interesa $x$ más que $A^{-1}$\n",
    "\n",
    "En particular si un sistema de ecuaciones es grande es mala idea calcular la inversa (muy costoso)\n",
    "\n",
    "`linalg` tiene la función `solve` que obtiene $x$ de forma más eficiente"
   ]
  },
  {
   "cell_type": "code",
   "execution_count": null,
   "metadata": {},
   "outputs": [],
   "source": [
    "np.linalg.solve?"
   ]
  },
  {
   "cell_type": "code",
   "execution_count": null,
   "metadata": {},
   "outputs": [],
   "source": [
    "N = 2000\n",
    "A = np.random.rand(N, N)\n",
    "b = np.random.rand(N, 1)\n",
    "%timeit -n10 np.linalg.inv(A)"
   ]
  },
  {
   "cell_type": "code",
   "execution_count": null,
   "metadata": {},
   "outputs": [],
   "source": [
    "%timeit -n10 np.linalg.solve(A, b)"
   ]
  },
  {
   "cell_type": "code",
   "execution_count": null,
   "metadata": {},
   "outputs": [],
   "source": [
    "np.allclose(np.linalg.solve(A, b), np.dot(np.linalg.inv(A), b))"
   ]
  },
  {
   "cell_type": "markdown",
   "metadata": {},
   "source": [
    "¿Por qué `solve` es más rápido que `inv`+`dot`?\n",
    "\n",
    "`solve` realiza internamente una factorización\n",
    "\n",
    "$$\n",
    "\\begin{align}\n",
    "A x &= b \\nonumber \\\\\n",
    "LU x &= b \\nonumber \\\\\n",
    "L z &= b \\nonumber\n",
    "\\end{align}\n",
    "$$\n",
    "\n",
    "Donde $L$ es una matriz triangular inferior (lower) y $U$ es una matriz triangular superior (upper)\n",
    "\n",
    "$$\n",
    "L = \\begin{pmatrix} \n",
    "l_{11} & 0 & 0 & \\ldots & 0 & 0 \\\\ \n",
    "l_{21} & l_{22} & 0 &\\ldots & 0 & 0 \\\\ \n",
    "\\vdots & \\vdots & \\vdots & \\ddots & \\vdots & \\vdots \\\\\n",
    "l_{N1} & l_{N2} & l_{N3} & \\ldots & l_{N(N-1)} & l_{NN} \\\\ \n",
    "\\end{pmatrix} \\quad\n",
    "U = \\begin{pmatrix} \n",
    "u_{11} & u_{11} & u_{13} & \\ldots & u_{1(N-1)} & u_{1N} \\\\ \n",
    "u_{21} & u_{22} & u_{32} &\\ldots & u_{2(N-1)} & 0 \\\\ \n",
    "\\vdots & \\vdots & \\vdots &\\ldots & \\ddots & \\vdots \\\\\n",
    "u_{N1} & 0 & 0 & \\ldots & 0 & 0\\\\ \n",
    "\\end{pmatrix}\n",
    "$$\n",
    "\n",
    "Luego $z$ se puede obtener recursivamente\n",
    "\n",
    "$$\n",
    "z_1 = \\frac{b_1}{l_{11}}\n",
    "$$\n",
    "$$\n",
    "z_2 = \\frac{b_2 - l_{21} z_1}{l_{22}}\n",
    "$$\n",
    "$$\n",
    "z_i = \\frac{b_i - \\sum_{j=1}^{i-1} l_{ij} z_j}{l_{ii}}\n",
    "$$\n",
    "\n",
    "y $x$ se puede obtener recursivamente de $z$\n",
    "\n",
    "La librería `scipy` nos ofrece en su modulo `linalg` la función `lu` para factorizar"
   ]
  },
  {
   "cell_type": "code",
   "execution_count": null,
   "metadata": {},
   "outputs": [],
   "source": [
    "import scipy.linalg\n",
    "scipy.linalg.lu?"
   ]
  },
  {
   "cell_type": "code",
   "execution_count": null,
   "metadata": {},
   "outputs": [],
   "source": [
    "A = np.array([[-1, 5],[2,3]])\n",
    "P, L, U = scipy.linalg.lu(A, permute_l=False)\n",
    "display(L, U)"
   ]
  },
  {
   "cell_type": "markdown",
   "metadata": {},
   "source": [
    "### Need for speed\n",
    "\n",
    "NumPy y SciPy se compilan contra las librerías [BLAS](http://www.netlib.org/blas/) y [LAPACK](http://www.netlib.org/lapack/) del sistema\n",
    "\n",
    "Existen varias implementaciones de BLAS/LAPACK que son enfocadas en eficiencia\n",
    "1. [OpenBLAS](https://www.openblas.net/)\n",
    "1. Intel [MKL](https://software.intel.com/en-us/mkl)\n",
    "1. [ATLAS](http://math-atlas.sourceforge.net/)\n",
    "\n",
    "\n",
    "\n",
    "- [Comparación entre ATLAS OpenBLAS y MKL](http://blog.nguyenvq.com/blog/2014/11/10/optimized-r-and-python-standard-blas-vs-atlas-vs-openblas-vs-mkl/)\n",
    "- [Guía de instalación de MKL con conda](https://software.intel.com/en-us/articles/using-intel-distribution-for-python-with-anaconda)"
   ]
  },
  {
   "cell_type": "code",
   "execution_count": null,
   "metadata": {},
   "outputs": [],
   "source": [
    "np.__config__.show()"
   ]
  },
  {
   "cell_type": "code",
   "execution_count": null,
   "metadata": {},
   "outputs": [],
   "source": [
    "!ldd /usr/lib/python3.7/site-packages/numpy/linalg/lapack_lite.cpython-37m-x86_64-linux-gnu.so"
   ]
  },
  {
   "cell_type": "markdown",
   "metadata": {},
   "source": [
    "## Sistema rectangular\n",
    "\n",
    "Si tenemos un sistema \n",
    "\n",
    "- sobredeterminado: con más ecuaciones que incognitas\n",
    "- infradeterminado: con más incognitas que ecuaciones\n",
    "- incognitas: grados de libertad\n",
    "- ecuaciones: restricciones\n",
    "\n",
    "ya no podemos calcular la inversa\n",
    "\n",
    "Sea entonces \n",
    "$$\n",
    "A x +b \n",
    "$$\n",
    "donde $A\\in \\mathbb{R}^{M\\times N}$, $x\\in \\mathbb{R}^{N}$ y $b \\in \\mathbb{R}^{M}$\n",
    "\n",
    "### Sistema sobre determinado\n",
    "\n",
    "Asumamos $N < M$ \n",
    "\n",
    "En este caso podemos encontrar una solución aproximada minimizando la suma de errores cuadráticos\n",
    "\n",
    "$$\\\n",
    "\\min_x \\sum_{i=1}^M e_i^2 \n",
    "$$\n",
    "donde $e_i = \\sum_{j=1}^N a_{ij} x_j - b_i$\n",
    "\n",
    "Esto se conoce como el **Problema de mínimos cuadrados**\n",
    "\n",
    "$$\n",
    "\\begin{align}\n",
    "\\frac{d}{dx} \\|Ax - b \\|_F^2 &= \\frac{d}{dx}  (A x - b)^T (A x -b) \\nonumber \\\\\n",
    " &= 2 A^T (A x -b) \\nonumber \\\\\n",
    "&= 2A^T A x - 2A^T b = 0 \\nonumber \\\\\n",
    "\\rightarrow \\hat x &= (A^T A)^{-1} A^T b\n",
    "\\end{align}\n",
    "$$\n",
    "\n",
    "donde $A^{\\dagger} = (A^T A)^{-1} A^T$ se conoce como la pseudo-inversa de [Moore-Penrose](https://en.wikipedia.org/wiki/Moore%E2%80%93Penrose_inverse)\n",
    "\n",
    "Que está implementada en `linalg.pinv`\n",
    "\n",
    "Y la solución de mínimos cuadrádos está implementada en [`linalg.lstsq`](https://docs.scipy.org/doc/numpy/reference/generated/numpy.linalg.lstsq.html)"
   ]
  },
  {
   "cell_type": "markdown",
   "metadata": {},
   "source": [
    "## Actividad: Ajustando una recta\n",
    "\n",
    "Encuentre los parámetros de la **ecuación de la recta** que ajuste mejor los datos \n",
    "\n",
    "$$\n",
    "y = \\theta_1 x + \\theta_2\n",
    "$$\n",
    "\n",
    "- Identifique y construya el vector $b$ y la matriz $A$ ¿Cuánto vale $N$ y $M$?\n",
    "- ¿Es este un sistema cuadrado o rectangular? ¿ Es sobre o infra-determinado?\n",
    "- Encuentre $\\theta_1$ y $\\theta_2$ que minimiza la suma de errores cuadráticos\n",
    "    - Encuentre la pseudo inversa y luego use dot\n",
    "    - Use lstsq\n",
    "    - ¿Cúal método es más eficiente?\n",
    "- Grafique la recta encontrada"
   ]
  },
  {
   "cell_type": "code",
   "execution_count": null,
   "metadata": {},
   "outputs": [],
   "source": [
    "x = np.linspace(-3, 3, num=50)\n",
    "y = -4*x + 2 + 2*np.random.randn(len(x))\n",
    "fig, ax = plt.subplots(figsize=( 4, 4), tight_layout=True)\n",
    "ax.scatter(x, y); \n",
    "ax.set_xlabel('x'); ax.set_ylabel('y');"
   ]
  },
  {
   "cell_type": "markdown",
   "metadata": {},
   "source": [
    "Puede hacer lo mismo con el siguiente polinomio?\n",
    "\n",
    "$$\n",
    "y = \\theta_2 x^2 + \\theta_1 x + \\theta_2\n",
    "$$"
   ]
  },
  {
   "cell_type": "code",
   "execution_count": null,
   "metadata": {},
   "outputs": [],
   "source": [
    "y = 5*x + 8*x**2 + 10*np.random.randn(len(x))\n",
    "fig, ax = plt.subplots(figsize=( 4, 4), tight_layout=True)\n",
    "ax.scatter(x, y); \n",
    "ax.set_xlabel('x'); ax.set_ylabel('y');"
   ]
  },
  {
   "cell_type": "code",
   "execution_count": null,
   "metadata": {},
   "outputs": [],
   "source": []
  }
 ],
 "metadata": {
  "kernelspec": {
   "display_name": "Python 3",
   "language": "python",
   "name": "python3"
  },
  "language_info": {
   "codemirror_mode": {
    "name": "ipython",
    "version": 3
   },
   "file_extension": ".py",
   "mimetype": "text/x-python",
   "name": "python",
   "nbconvert_exporter": "python",
   "pygments_lexer": "ipython3",
   "version": "3.8.2"
  },
  "toc": {
   "base_numbering": 1,
   "nav_menu": {},
   "number_sections": true,
   "sideBar": true,
   "skip_h1_title": false,
   "title_cell": "Table of Contents",
   "title_sidebar": "Contents",
   "toc_cell": false,
   "toc_position": {},
   "toc_section_display": true,
   "toc_window_display": false
  }
 },
 "nbformat": 4,
 "nbformat_minor": 2
}
