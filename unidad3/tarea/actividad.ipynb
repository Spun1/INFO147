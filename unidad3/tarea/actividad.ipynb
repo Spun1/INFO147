{
 "cells": [
  {
   "cell_type": "code",
   "execution_count": null,
   "metadata": {},
   "outputs": [],
   "source": [
    "%matplotlib notebook\n",
    "import numpy as np\n",
    "import matplotlib.pyplot as plt\n",
    "from IPython.display import display"
   ]
  },
  {
   "cell_type": "markdown",
   "metadata": {},
   "source": [
    "# Actividad práctica \n",
    "\n",
    "### Instrucciones generales\n",
    "- Escriba las rutinas de Python necesarias para resolver los problemas de cada punto\n",
    "- Siga las instrucciones y conteste donde se pida\n",
    "- Entregue el notebook con sus respuestas al correo: phuijse@inf.uach.cl\n",
    "- Plazo de entrega: **Jueves 8 de Agosto a las 23:59**\n",
    "- El trabajo es individual"
   ]
  },
  {
   "cell_type": "markdown",
   "metadata": {},
   "source": [
    "### Análisis de componentes principales (PCA)\n",
    "\n",
    "Describa en sus palabras el procedimiento de PCA sobre una matriz de datos y conteste:\n",
    "1. ¿Qué optimiza PCA en términos de la proyección que se busca?\n",
    "1. ¿Qué relación tiene con el problema de valores/vectores propios?\n",
    "1. ¿Cómo se puede reducir la dimensión de los datos con PCA?"
   ]
  },
  {
   "cell_type": "code",
   "execution_count": null,
   "metadata": {},
   "outputs": [],
   "source": []
  },
  {
   "cell_type": "markdown",
   "metadata": {},
   "source": [
    "Considere el siguiente set de datos de imágenes de dígitos manuscritos de 8x8 píxeles\n",
    "1. Reste la media de los datos y calcule la matriz de covarianza\n",
    "1. Encuentre los componentes principales usando `scipy.linalg`\n",
    "    1. Ordene los componentes principales de mayor a menor importancia\n",
    "    1. Haga un gráfico de varianza explicada en función de la cantidad de componentes principales considerados\n",
    "        1. ¿Cuántos se requieren para que se explique un 90% de la varianza?\n",
    "    1. Visualize como imagen de 8x8 los 10 componentes principales de mayor importancia \n",
    "1. Haga una proyección usando los dos componentes principales de mayor importancia\n",
    "    1. Grafique el resultado en un `scatter-plot` usando **distinto color** para cada digito (`label`). Debe incluir leyenda\n",
    "    1. ¿Qué digitos se pueden separar en el espacio proyectado?"
   ]
  },
  {
   "cell_type": "code",
   "execution_count": null,
   "metadata": {},
   "outputs": [],
   "source": [
    "from sklearn.datasets import load_digits\n",
    "digits = load_digits()\n",
    "data = digits['data']\n",
    "label = digits['target']\n",
    "display(data.shape)\n",
    "\n",
    "fig, ax = plt.subplots(1, 10, figsize=(8, 1), tight_layout=True)\n",
    "for element, title, ax_ in zip(data[:10], label[:10], ax):\n",
    "    ax_.matshow(np.reshape(element, (8, 8)), cmap=plt.cm.Greys_r)\n",
    "    ax_.axis('off');\n",
    "    ax_.set_title(title)"
   ]
  },
  {
   "cell_type": "markdown",
   "metadata": {},
   "source": [
    "Considere las siguientes funciones para las siguientes actividades"
   ]
  },
  {
   "cell_type": "code",
   "execution_count": null,
   "metadata": {},
   "outputs": [],
   "source": [
    "# Generar un conjunto de datos de ND datos cada uno de largo NT con distribución log-normal\n",
    "def generate_data(ND, NT):\n",
    "    time = np.linspace(0, 1, num=NT)\n",
    "    cov = 0.1*np.exp(-0.5*(time[:, None]  - time[:, None].T)**2/0.5**2)\n",
    "    data = np.exp(np.random.multivariate_normal(mean=np.zeros(NT), cov=cov, size=ND))\n",
    "    return time, data\n",
    "\n",
    "# Ajustar un modelo polinomial de cuarto grado a los datos y calcular el mse\n",
    "def slow_function(time, data):\n",
    "    ND, NT = data.shape\n",
    "    X = np.vstack([time**k for k in range(4)]).T\n",
    "    Phi = np.linalg.pinv(X)\n",
    "    mse = np.zeros(shape=(ND,))\n",
    "    theta = np.zeros(shape=(ND, 4))\n",
    "    for i, y in enumerate(data):\n",
    "        y_log = np.log(y)\n",
    "        y_mean = np.mean(y_log)\n",
    "        y_var = np.var(y_log)\n",
    "        y_norm = (y_log - y_mean)/np.sqrt(y_var)\n",
    "        theta[i, :] = np.dot(Phi, y_norm)\n",
    "        model = np.dot(X, theta[i, :])\n",
    "        mse[i] = np.mean((y_norm - model)**2)\n",
    "    return mse, theta  "
   ]
  },
  {
   "cell_type": "markdown",
   "metadata": {},
   "source": [
    "### Midiendo tiempo total\n",
    "\n",
    "1. Para 20 valores de ND distintos generados con `np.logspace(1, 5, num=20).astype(int)`\n",
    "    1. Genere un conjunto de datos de tamaño ND y largo NT=1000 usando `generate_data`\n",
    "    1. Mida y guarde el tiempo total promedio (10 repeticiones) que toma ajustar un modelo polinomial a los ND datos con `slow_function`\n",
    "        > HINT: Puede usar el argumento `-o` de la magia timeit para guardar el resultado\n",
    "1. Use matplotlib para generar un gráfico de (tiempo total promedio) con barras de error y otro de (tiempo total promedio)/ND\n",
    "    1. Estudie ambos gráficos y discuta lo que observa. ¿Qué está ocurriendo en el segundo gráfico? ¿Qué relación tiene con el overhead?"
   ]
  },
  {
   "cell_type": "code",
   "execution_count": null,
   "metadata": {},
   "outputs": [],
   "source": []
  },
  {
   "cell_type": "markdown",
   "metadata": {},
   "source": [
    "### Profiling \n",
    "\n",
    "Genere un conjunto de datos de tamaño 10000 y largo 1000\n",
    "\n",
    "1. Haga un profiling con cProfile con la magia `%prun`\n",
    "    1. Use los argumentos `-q -T texto` para escribir un archivo de texto con el resultado\n",
    "    1. Imprima el resultado con funciones de `bash`\n",
    "    1. ¿Cuáles son las 5 funciones con mayor tiempo total?\n",
    "    1. ¿Cuáles son las 5 funciones con mayor tiempo acumulado?\n",
    "1. Haga un profiling linea a linea con la magia `%lprun`\n",
    "    1. Use el argumento `-T texto` para escribir un archivo de texto con el resultado\n",
    "    1. Imprima el resultado con funciones de `bash`\n",
    "    1. ¿Cuáles son las 5 lineas más costosas?\n"
   ]
  },
  {
   "cell_type": "code",
   "execution_count": null,
   "metadata": {},
   "outputs": [],
   "source": []
  },
  {
   "cell_type": "markdown",
   "metadata": {},
   "source": [
    "### Cythonizando\n",
    "\n",
    "Escriba una función de Cython que retorne el mismo resultado que `slow_function`\n",
    "1. Considere los resultados de su profiling para escribir versiones cythonizadas de las funciones de numpy que considere necesario\n",
    "1. Importe el logaritmo y la raiz cuadrada de `math.h`\n",
    "1. Use decoradores para levantar las verificaciones de Python\n",
    "1. Use vistas para los arreglos de NumPy\n",
    "1. Mida el tiempo total promedio (10 repeticiones) para conjuntos de datos de tamaño`N=np.logspace(1, 5, num=20).astype(int)` y largo 1000\n",
    "1. Haga una gráfica de speed-up (tiempo cython/tiempo slow_function) en función de $N$\n",
    "1. Estudie y discuta lo que observa"
   ]
  },
  {
   "cell_type": "code",
   "execution_count": null,
   "metadata": {},
   "outputs": [],
   "source": []
  },
  {
   "cell_type": "markdown",
   "metadata": {},
   "source": [
    "### Paralelizando\n",
    "\n",
    "Escriba una versión paralela de su código Cython usando `parallel for` de OpenMP\n",
    "1. Levante el GIL donde corresponda\n",
    "1. Use un número de hilos adecuado para su computador\n",
    "1. Mida el tiempo total promedio (10 repeticiones) para conjuntos de datos de tamaño`N=np.logspace(1, 5, num=20).astype(int)` y largo 1000\n",
    "1. Haga una gráfica de speed-up (tiempo cython paralelo/tiempo cython secuencial) en función de $N$\n",
    "1. Estudie y discuta lo que observa "
   ]
  },
  {
   "cell_type": "code",
   "execution_count": null,
   "metadata": {},
   "outputs": [],
   "source": []
  }
 ],
 "metadata": {
  "kernelspec": {
   "display_name": "Python 3",
   "language": "python",
   "name": "python3"
  },
  "language_info": {
   "codemirror_mode": {
    "name": "ipython",
    "version": 3
   },
   "file_extension": ".py",
   "mimetype": "text/x-python",
   "name": "python",
   "nbconvert_exporter": "python",
   "pygments_lexer": "ipython3",
   "version": "3.7.3"
  }
 },
 "nbformat": 4,
 "nbformat_minor": 2
}
