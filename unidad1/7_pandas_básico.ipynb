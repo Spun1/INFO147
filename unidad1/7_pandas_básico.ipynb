{
 "cells": [
  {
   "cell_type": "markdown",
   "metadata": {},
   "source": [
    "# Procesamiento de datos con [*pandas*](https://pandas.pydata.org/) <a class=\"tocSkip\">\n",
    "\n",
    "\n",
    "Es una librería para **leer, manipular y procesar datos** con lenguaje Python \n",
    "\n",
    "Pandas provee\n",
    "- Dos estructuras de datos: *DataFrame* y *Series*\n",
    "- Herramientas de análisis de datos que operan sobre estas estructuras\n",
    "    \n",
    "Pandas se combina bien con NumPy y Matplotlib \n",
    "\n",
    "### Instalación  <a class=\"tocSkip\">\n",
    "    \n",
    "Activa tu ambiente de conda y luego\n",
    "\n",
    "    conda install pandas\n",
    "    "
   ]
  },
  {
   "cell_type": "code",
   "execution_count": 2,
   "metadata": {
    "ExecuteTime": {
     "end_time": "2020-06-05T01:47:49.067091Z",
     "start_time": "2020-06-05T01:47:48.525700Z"
    }
   },
   "outputs": [
    {
     "name": "stdout",
     "output_type": "stream",
     "text": [
      "Versión de pandas 1.0.3\n"
     ]
    }
   ],
   "source": [
    "%matplotlib notebook\n",
    "import matplotlib.pyplot as plt\n",
    "import numpy as np\n",
    "import pandas as pd\n",
    "print(\"Versión de pandas \"+pd.__version__)"
   ]
  },
  {
   "cell_type": "code",
   "execution_count": 7,
   "metadata": {
    "ExecuteTime": {
     "end_time": "2020-06-05T01:50:50.502982Z",
     "start_time": "2020-06-05T01:50:50.495644Z"
    }
   },
   "outputs": [],
   "source": [
    "ventas = {\n",
    "    'platanos': [0, 0, 2, 4, 5, 0],\n",
    "    'naranjas': [4, 4, 3, 5, 0, 0],\n",
    "    'manzanas': [2, 3, 6, 6, 1, 5],\n",
    "    'peras': [0, 0, 3, 3, 5, 5]    \n",
    "}\n",
    "clientes = ['Pablo', 'Marianna', 'Matthieu', 'Luis', 'Eliana', 'Cristobal']"
   ]
  },
  {
   "cell_type": "code",
   "execution_count": 8,
   "metadata": {
    "ExecuteTime": {
     "end_time": "2020-06-05T01:50:53.920393Z",
     "start_time": "2020-06-05T01:50:53.906130Z"
    }
   },
   "outputs": [
    {
     "data": {
      "text/html": [
       "<div>\n",
       "<style scoped>\n",
       "    .dataframe tbody tr th:only-of-type {\n",
       "        vertical-align: middle;\n",
       "    }\n",
       "\n",
       "    .dataframe tbody tr th {\n",
       "        vertical-align: top;\n",
       "    }\n",
       "\n",
       "    .dataframe thead th {\n",
       "        text-align: right;\n",
       "    }\n",
       "</style>\n",
       "<table border=\"1\" class=\"dataframe\">\n",
       "  <thead>\n",
       "    <tr style=\"text-align: right;\">\n",
       "      <th></th>\n",
       "      <th>platanos</th>\n",
       "      <th>naranjas</th>\n",
       "      <th>manzanas</th>\n",
       "      <th>peras</th>\n",
       "    </tr>\n",
       "  </thead>\n",
       "  <tbody>\n",
       "    <tr>\n",
       "      <th>Pablo</th>\n",
       "      <td>0</td>\n",
       "      <td>4</td>\n",
       "      <td>2</td>\n",
       "      <td>0</td>\n",
       "    </tr>\n",
       "    <tr>\n",
       "      <th>Marianna</th>\n",
       "      <td>0</td>\n",
       "      <td>4</td>\n",
       "      <td>3</td>\n",
       "      <td>0</td>\n",
       "    </tr>\n",
       "    <tr>\n",
       "      <th>Matthieu</th>\n",
       "      <td>2</td>\n",
       "      <td>3</td>\n",
       "      <td>6</td>\n",
       "      <td>3</td>\n",
       "    </tr>\n",
       "    <tr>\n",
       "      <th>Luis</th>\n",
       "      <td>4</td>\n",
       "      <td>5</td>\n",
       "      <td>6</td>\n",
       "      <td>3</td>\n",
       "    </tr>\n",
       "    <tr>\n",
       "      <th>Eliana</th>\n",
       "      <td>5</td>\n",
       "      <td>0</td>\n",
       "      <td>1</td>\n",
       "      <td>5</td>\n",
       "    </tr>\n",
       "    <tr>\n",
       "      <th>Cristobal</th>\n",
       "      <td>0</td>\n",
       "      <td>0</td>\n",
       "      <td>5</td>\n",
       "      <td>5</td>\n",
       "    </tr>\n",
       "  </tbody>\n",
       "</table>\n",
       "</div>"
      ],
      "text/plain": [
       "           platanos  naranjas  manzanas  peras\n",
       "Pablo             0         4         2      0\n",
       "Marianna          0         4         3      0\n",
       "Matthieu          2         3         6      3\n",
       "Luis              4         5         6      3\n",
       "Eliana            5         0         1      5\n",
       "Cristobal         0         0         5      5"
      ]
     },
     "execution_count": 8,
     "metadata": {},
     "output_type": "execute_result"
    }
   ],
   "source": [
    "pd.DataFrame(data=ventas, index=clientes)"
   ]
  },
  {
   "cell_type": "markdown",
   "metadata": {},
   "source": [
    "## Estructuras de datos de *pandas*\n",
    "\n",
    "pandas ofrece dos estructuras de datos\n",
    "\n",
    "El principal es `pandas.DataFrame` \n",
    "\n",
    "Un *DataFrame* es un arreglo bi-dimensional que representa una tabla\n",
    "\n",
    "Las filas y columnas de la tabla \n",
    "\n",
    "Las columnas pueden tener tipos distintos\n",
    "\n",
    "\n",
    "\n",
    "Data structure also contains labeled axes (rows and columns). Arithmetic operations align on both row and column labels. Can be thought of as a dict-like container for Series objects. The primary pandas data structure.\n",
    "\n",
    "### `pandas.Series` \n",
    "\n",
    "Es un arreglo unidmensional\n",
    "\n",
    "One-dimensional ndarray with axis labels (including time series).\n",
    "\n",
    "Labels need not be unique but must be a hashable type. The object supports both integer- and label-based indexing and provides a host of methods for performing operations involving the index. Statistical methods from ndarray have been overridden to automatically exclude missing data (currently represented as NaN).\n",
    "\n",
    "Operations between Series (+, -, /, , *) align values based on their associated index values– they need not be the same length. The result index will be the sorted union of the two indexes.\n",
    "\n",
    "Se usa para representar secuencias con una columna de datos\n",
    "\n",
    "\n",
    "Un DataFrame es similar a un \n",
    "\n",
    "## Dataframes\n",
    "\n",
    "- Un *dataframe* es una tabla\n",
    "- Es un conjunto de *series* que comparten índice de fila\n",
    "- Cada serie es una columna del *dataframe*\n",
    "- El ambiente jupyter imprime un dataframe como una tabla markdown de forma automática\n",
    "\n",
    "\n",
    "A diferencia \n",
    "- Las filas y las columnas están etiquetadas con **índices**\n",
    "- Por defecto el índice es número entero que parte de cero pero podemos especificarlo como queramos\n",
    "- Soportan múltiples tipos y NaNs (missing data)\n",
    "\n"
   ]
  },
  {
   "cell_type": "markdown",
   "metadata": {},
   "source": [
    "Por ejemplo una [serie](https://pandas.pydata.org/pandas-docs/stable/reference/api/pandas.Series.html):"
   ]
  },
  {
   "cell_type": "code",
   "execution_count": null,
   "metadata": {},
   "outputs": [],
   "source": [
    "s = pd.Series([\"asd\", 4521, 24.2142])\n",
    "print(s)\n",
    "[type(x) for x in s]"
   ]
  },
  {
   "cell_type": "code",
   "execution_count": null,
   "metadata": {},
   "outputs": [],
   "source": [
    "s = pd.Series([3.124, 5.124, 2.1416, 10.])\n",
    "print(s)\n",
    "[type(x) for x in s]"
   ]
  },
  {
   "cell_type": "code",
   "execution_count": null,
   "metadata": {},
   "outputs": [],
   "source": [
    "# Atributos index y values\n",
    "display(s.index, \n",
    "        s.values, \n",
    "        s.describe())"
   ]
  },
  {
   "cell_type": "code",
   "execution_count": null,
   "metadata": {},
   "outputs": [],
   "source": [
    "display(s[:2], # slicing\n",
    "        s[-2:], \n",
    "        s[[0, 2, 3]], # fancy-indexing\n",
    "        s[s>5]) # mascaras"
   ]
  },
  {
   "cell_type": "markdown",
   "metadata": {},
   "source": [
    "En los ejemplos anteriores el índice se creo de forma automática pero podemos especificarlo con"
   ]
  },
  {
   "cell_type": "code",
   "execution_count": null,
   "metadata": {},
   "outputs": [],
   "source": [
    "s = pd.Series([3.124, 5.124, 2.1416, 10.], index=[1, 0, 2, 40])\n",
    "display(s, s[40])"
   ]
  },
  {
   "cell_type": "markdown",
   "metadata": {},
   "source": [
    "**IMPORTANTE** El índice no tiene que ser númerico\n",
    "\n",
    "Idealmente el índice debería ser informativo por si mismo, por ejemplo:"
   ]
  },
  {
   "cell_type": "code",
   "execution_count": null,
   "metadata": {},
   "outputs": [],
   "source": [
    "s_IPSA = pd.Series([0.36, -0.31, -0.6, 0.0], \n",
    "                   index=[\"AGUAS-A\", \"BSANTANDER\", \"CMPC\", \"ENTEL\"],\n",
    "                   name='% variación')\n",
    "display(s_IPSA)"
   ]
  },
  {
   "cell_type": "code",
   "execution_count": null,
   "metadata": {},
   "outputs": [],
   "source": [
    "# A diferencia de un diccionario de Python, la serie soporta slicing (tiene orden)\n",
    "display(s_IPSA[\"BSANTANDER\":\"CMPC\"])\n",
    "# E indexación con otro arreglo\n",
    "display(s_IPSA[[\"CMPC\", \"AGUAS-A\"]])"
   ]
  },
  {
   "cell_type": "code",
   "execution_count": null,
   "metadata": {},
   "outputs": [],
   "source": [
    "# Se puede construir una serie a partir de escalares, listas, diccioanrios y ndarray\n",
    "\n",
    "display(pd.Series(2.14159, index=np.arange(5)), \n",
    "        pd.Series([4, 3, 2, 1, 0]),\n",
    "        pd.Series(np.random.randn(5)),\n",
    "        pd.Series({'Valdivia': 143207, 'Santiago': 5614000}))"
   ]
  },
  {
   "cell_type": "markdown",
   "metadata": {},
   "source": [
    "¿Qué podemos hacer con la [serie](https://pandas.pydata.org/pandas-docs/stable/reference/api/pandas.Series.html)?"
   ]
  },
  {
   "cell_type": "code",
   "execution_count": null,
   "metadata": {},
   "outputs": [],
   "source": [
    "pd.Series([0.124], index=[\"SOPROLE\"])"
   ]
  },
  {
   "cell_type": "code",
   "execution_count": null,
   "metadata": {},
   "outputs": [],
   "source": [
    "# Agregar un elemento\n",
    "s_IPSA[\"SOPROLE\"] = 0.124\n",
    "display(s_IPSA)\n",
    "# Eliminar un elemento\n",
    "popped_value = s_IPSA.pop(\"SOPROLE\")\n",
    "#s_IPSA = s_IPSA.drop(\"SOPROLE\")\n",
    "display(s_IPSA)"
   ]
  },
  {
   "cell_type": "code",
   "execution_count": null,
   "metadata": {},
   "outputs": [],
   "source": [
    "display(s_IPSA)\n",
    "print(\"Aritmética:\")\n",
    "display(s_IPSA+2, s_IPSA*2, s_IPSA**2)"
   ]
  },
  {
   "cell_type": "code",
   "execution_count": null,
   "metadata": {},
   "outputs": [],
   "source": [
    "print(\"Reducciones y estadísticos:\")\n",
    "display(s_IPSA.sum(), s_IPSA.cumsum().values, \n",
    "        s_IPSA.mean(), s_IPSA.std(), \n",
    "        s_IPSA.min(), s_IPSA.idxmin())"
   ]
  },
  {
   "cell_type": "code",
   "execution_count": null,
   "metadata": {},
   "outputs": [],
   "source": [
    "print(\"Operaciones lógicas:\")\n",
    "display(s_IPSA<0, # Equivalente a s.lt(0)\n",
    "        (s_IPSA>-0.5) & (s_IPSA<0.2))"
   ]
  },
  {
   "cell_type": "markdown",
   "metadata": {},
   "source": [
    "También podemos graficarlo"
   ]
  },
  {
   "cell_type": "code",
   "execution_count": null,
   "metadata": {},
   "outputs": [],
   "source": [
    "fig, ax = plt.subplots(figsize=(5, 4), tight_layout=True)\n",
    "ax.set_ylabel(s_IPSA.name);\n",
    "\n",
    "s_IPSA.plot(ax=ax, kind='bar')\n",
    "#ax.bar(x=s.index, height=s.values)\n",
    "\n",
    "# kind = {line, bar, barh, hist, box, kde, area, pie}"
   ]
  },
  {
   "cell_type": "markdown",
   "metadata": {},
   "source": [
    "## Dataframes\n",
    "\n",
    "- Un *dataframe* es una tabla\n",
    "- Es un conjunto de *series* que comparten índice de fila\n",
    "- Cada serie es una columna del *dataframe*\n",
    "- El ambiente jupyter imprime un dataframe como una tabla markdown de forma automática\n",
    "\n",
    "\n",
    "### Creando un dataframe\n",
    "\n",
    "A partir de una serie"
   ]
  },
  {
   "cell_type": "code",
   "execution_count": null,
   "metadata": {},
   "outputs": [],
   "source": [
    "df = pd.DataFrame(s_IPSA)\n",
    "df"
   ]
  },
  {
   "cell_type": "code",
   "execution_count": null,
   "metadata": {},
   "outputs": [],
   "source": [
    "# Atributos informativos\n",
    "print(df.dtypes)\n",
    "print(\"\")\n",
    "print(df.info())"
   ]
  },
  {
   "cell_type": "markdown",
   "metadata": {},
   "source": [
    "A partir de múltiples series"
   ]
  },
  {
   "cell_type": "code",
   "execution_count": null,
   "metadata": {},
   "outputs": [],
   "source": [
    "s2 = pd.Series([1653, 3531, 5998, 1408], \n",
    "              index=s_IPSA.index,\n",
    "              name='Monto M$')\n",
    "s3 = pd.Series([\"CL0000000035\", \"CLP1506A1070\", \"CL0000001314\", \"CLP37115105\"], \n",
    "              index=s_IPSA.index,\n",
    "              name='ISIN')\n",
    "\n",
    "df_IPSA = pd.concat([s_IPSA, s2, s3], axis=1)\n",
    "df_IPSA"
   ]
  },
  {
   "cell_type": "markdown",
   "metadata": {},
   "source": [
    "A partir de un ndarray bidimensional"
   ]
  },
  {
   "cell_type": "code",
   "execution_count": null,
   "metadata": {},
   "outputs": [],
   "source": [
    "pd.DataFrame(np.eye(3), columns=[\"a\", \"b\", \"c\"])"
   ]
  },
  {
   "cell_type": "markdown",
   "metadata": {},
   "source": [
    "O de una lista de diccionarios"
   ]
  },
  {
   "cell_type": "code",
   "execution_count": null,
   "metadata": {},
   "outputs": [],
   "source": [
    "d = [{'nombre': nombre, 'apellido': apellido} for nombre, apellido in zip([\"pablo\", \"fulano\"], [\"huijse\", \"de tal\"])]\n",
    "pd.DataFrame(d)"
   ]
  },
  {
   "cell_type": "markdown",
   "metadata": {},
   "source": [
    "### Indices\n",
    "\n",
    "- Un dataframe tiene dos sets de índices: fila y columna\n",
    "- Ambos puede ser enteros o etiquetas\n",
    "\n",
    "Podemos recuperarlos con"
   ]
  },
  {
   "cell_type": "code",
   "execution_count": null,
   "metadata": {},
   "outputs": [],
   "source": [
    "mis_columnas = df_IPSA.columns\n",
    "mis_filas = df_IPSA.index\n",
    "display(mis_columnas, mis_filas)"
   ]
  },
  {
   "cell_type": "markdown",
   "metadata": {},
   "source": [
    "Podemos manipularlos como ndarrays"
   ]
  },
  {
   "cell_type": "code",
   "execution_count": null,
   "metadata": {},
   "outputs": [],
   "source": [
    "display(mis_columnas[0], \n",
    "        mis_columnas[::-1], \n",
    "        mis_filas[::2], \n",
    "        mis_filas.shape)"
   ]
  },
  {
   "cell_type": "markdown",
   "metadata": {},
   "source": [
    "Los índices son tipos inmutables"
   ]
  },
  {
   "cell_type": "code",
   "execution_count": null,
   "metadata": {},
   "outputs": [],
   "source": [
    "# mis_columnas[0] = \"asd\""
   ]
  },
  {
   "cell_type": "markdown",
   "metadata": {},
   "source": [
    "Los [índices](https://pandas.pydata.org/pandas-docs/stable/reference/api/pandas.Index.html) soportan operaciones lógicas (tipo Set)"
   ]
  },
  {
   "cell_type": "code",
   "execution_count": null,
   "metadata": {},
   "outputs": [],
   "source": [
    "# Nota: idx1 es equivalente a \n",
    "# pd.Index(np.arange(10)) y pd.Index([0, 1, 2, 3, 4, 5, 6, 7, 8, 9]) pero ahorra memoria\n",
    "idx1 = pd.Index(range(10))\n",
    "idx2 = pd.Index(range(0, 20, 2))\n",
    "# display(idx1, idx2)\n",
    "display(idx1.intersection(idx2),  # Equivalente a: idx1 & idx2\n",
    "        idx1.union(idx2), # TEquivalente a: idx1 | idx2\n",
    "        idx1.symmetric_difference(idx2), # Equivalente a: idx1 ^ idx2\n",
    "        idx1.difference(idx2),\n",
    "        idx2.difference(idx1)) "
   ]
  },
  {
   "cell_type": "markdown",
   "metadata": {},
   "source": [
    "### Slicing e indexación  de dataframes\n",
    "\n",
    "Podemos obtener una serie a partir de una columna"
   ]
  },
  {
   "cell_type": "code",
   "execution_count": null,
   "metadata": {},
   "outputs": [],
   "source": [
    "df_IPSA[\"ISIN\"]\n",
    "# También se puede llamar como atributo df.ISIN pero esto es menos recomendable"
   ]
  },
  {
   "cell_type": "markdown",
   "metadata": {},
   "source": [
    "Podemos obtener una sub-tabla seleccionando columnas"
   ]
  },
  {
   "cell_type": "code",
   "execution_count": null,
   "metadata": {},
   "outputs": [],
   "source": [
    "display(df_IPSA[[\"ISIN\"]], \n",
    "        df_IPSA[[\"Monto M$\", \"% variación\"]])"
   ]
  },
  {
   "cell_type": "markdown",
   "metadata": {},
   "source": [
    "Podemos extraer una o más filas usando los atributos `loc[]` o `iloc[]`\n",
    "\n",
    "`loc[]` acepta etiquetas, `iloc[]` acepta el índice \"interno\" (entero)\n",
    "\n",
    "Cuando extraemos sólo una fila se obtiene una serie, de lo contrario se obtiene un dataframe"
   ]
  },
  {
   "cell_type": "code",
   "execution_count": null,
   "metadata": {},
   "outputs": [],
   "source": [
    "display(df_IPSA.loc[\"CMPC\"],\n",
    "        df_IPSA.loc[[\"CMPC\", \"AGUAS-A\"]],\n",
    "        df_IPSA.loc[\"AGUAS-A\":\"CMPC\"])"
   ]
  },
  {
   "cell_type": "code",
   "execution_count": null,
   "metadata": {},
   "outputs": [],
   "source": [
    "display(df_IPSA.iloc[2], \n",
    "        df_IPSA.iloc[[2, 0]],\n",
    "        df_IPSA.iloc[:3])"
   ]
  },
  {
   "cell_type": "markdown",
   "metadata": {},
   "source": [
    "No confundirse con `iloc[]` y `loc[]`"
   ]
  },
  {
   "cell_type": "code",
   "execution_count": null,
   "metadata": {},
   "outputs": [],
   "source": [
    "np.random.seed(0)\n",
    "stupid_dataframe = pd.DataFrame(np.random.permutation(16).reshape(4, 4), \n",
    "                  index=[2, 0, 3, 1])\n",
    "\n",
    "display(stupid_dataframe, \n",
    "        stupid_dataframe.loc[2],\n",
    "        stupid_dataframe.iloc[2])"
   ]
  },
  {
   "cell_type": "markdown",
   "metadata": {},
   "source": [
    "También podemos recuperar simultaneamente un sub-conjunto de filas y columnas\n",
    "\n",
    "    df.loc[filas, columnas]\n",
    "    \n",
    "Se pueden hacer slicing, fancy-indexing, máscaras, etc"
   ]
  },
  {
   "cell_type": "code",
   "execution_count": null,
   "metadata": {},
   "outputs": [],
   "source": [
    "display(df_IPSA.loc[\"CMPC\", \"Monto M$\"],\n",
    "        df_IPSA.iloc[2, 1],\n",
    "        df_IPSA.loc[:\"CMPC\", \"Monto M$\":], \n",
    "        df_IPSA.iloc[:3, 1:],\n",
    "        df_IPSA.loc[[\"ENTEL\", \"CMPC\"], [\"Monto M$\", \"% variación\"]], \n",
    "        df_IPSA.loc[df_IPSA[\"Monto M$\"] > 2000, \"Monto M$\":])"
   ]
  },
  {
   "cell_type": "markdown",
   "metadata": {},
   "source": [
    "Notemos la diferencia de tiempo entre"
   ]
  },
  {
   "cell_type": "code",
   "execution_count": null,
   "metadata": {},
   "outputs": [],
   "source": [
    "%timeit -n10 df_IPSA.loc[\"AGUAS-A\":\"CMPC\"][[\"Monto M$\", \"ISIN\"]]\n",
    "%timeit -n10 df_IPSA[[\"Monto M$\", \"ISIN\"]].loc[\"AGUAS-A\":\"CMPC\"]\n",
    "%timeit -n10 df_IPSA.loc[\"AGUAS-A\":\"CMPC\", \"Monto M$\":] \n",
    "%timeit -n10 df_IPSA.iloc[:2, 1:] "
   ]
  },
  {
   "cell_type": "markdown",
   "metadata": {},
   "source": [
    "Si quieres una columna completa no uses `loc`/`iloc`"
   ]
  },
  {
   "cell_type": "code",
   "execution_count": null,
   "metadata": {},
   "outputs": [],
   "source": [
    "%timeit -n10 df_IPSA[\"ISIN\"]\n",
    "%timeit -n10  df_IPSA.loc[:, \"ISIN\"]\n",
    "%timeit -n10  df_IPSA.iloc[:, 2]"
   ]
  },
  {
   "cell_type": "markdown",
   "metadata": {},
   "source": [
    "#### Evitar posible confusión"
   ]
  },
  {
   "cell_type": "code",
   "execution_count": null,
   "metadata": {},
   "outputs": [],
   "source": [
    "# Esto se puede hacer\n",
    "display(df_IPSA[\"Monto M$\"])\n",
    "# pero esto no: \n",
    "#display(df_IPSA[\"Monto M$\":])\n",
    "\n",
    "# Esto se puede hacer\n",
    "display(df_IPSA[\"BSANTANDER\":])\n",
    "# y es equivalente a df_IPSA.loc[\"BSANTANDER\":]\n",
    "# Pero esto no: \n",
    "#df_IPSA[\"BSANTANDER\"]"
   ]
  },
  {
   "cell_type": "markdown",
   "metadata": {},
   "source": [
    "## Operaciones sobre [dataframes](https://pandas.pydata.org/pandas-docs/stable/reference/api/pandas.DataFrame.html)"
   ]
  },
  {
   "cell_type": "markdown",
   "metadata": {},
   "source": [
    "Convertir a ndarray:"
   ]
  },
  {
   "cell_type": "code",
   "execution_count": null,
   "metadata": {
    "scrolled": true
   },
   "outputs": [],
   "source": [
    "df_IPSA.to_numpy() # Equivalente a df_IPSA.values"
   ]
  },
  {
   "cell_type": "markdown",
   "metadata": {},
   "source": [
    "Intercambiar filas y columnas (trasponer):"
   ]
  },
  {
   "cell_type": "code",
   "execution_count": null,
   "metadata": {},
   "outputs": [],
   "source": [
    "df_IPSA.T"
   ]
  },
  {
   "cell_type": "markdown",
   "metadata": {},
   "source": [
    "### Aritmética sobre dataframes\n",
    "\n",
    "Podemos hacer operaciones aritméticas simples y/o aplicar funciones de NumPy\n",
    "\n",
    "Notemos que no se pueden operar strings de forma directa:\n",
    "- Podemos usar [`select_dtypes`](https://pandas.pydata.org/pandas-docs/stable/reference/api/pandas.DataFrame.select_dtypes.html) para obtener un subconjunto de datos de tipo númerico\n",
    "- Podemos usar *parsear* el atributo string a numérico (más adelante detallaremos esto)"
   ]
  },
  {
   "cell_type": "code",
   "execution_count": null,
   "metadata": {},
   "outputs": [],
   "source": [
    "df_numeric = df_IPSA.select_dtypes(np.number)\n",
    "display(df_numeric,\n",
    "        df_numeric + 2, # Equivalente a df_numeric.add(2)\n",
    "        df_numeric*2, # Equivalente a df_numeric.multiply(2)\n",
    "        np.log(np.abs(df_numeric)+1e-10))"
   ]
  },
  {
   "cell_type": "markdown",
   "metadata": {},
   "source": [
    "**Alineamiento:** Las operaciones entre columnas se guian por el índice\n",
    "\n",
    "- Si un índice no es compartido por ambos operandos se retorna un NaN\n",
    "- Podemos evitar que esto ocurre seteando el `fill_value`"
   ]
  },
  {
   "cell_type": "code",
   "execution_count": null,
   "metadata": {},
   "outputs": [],
   "source": [
    "df1 = df_IPSA.loc[\"BSANTADER\":, \"Monto M$\"]\n",
    "df2 = df_IPSA.loc[:\"CMPC\", \"% variación\"]\n",
    "display(df1,\n",
    "        df2,\n",
    "        df1/df2, # Equivalente a df1.divide(df2)\n",
    "        df1.divide(df2, fill_value=1))"
   ]
  },
  {
   "cell_type": "markdown",
   "metadata": {},
   "source": [
    "### Manejando *missing values* (NaNs)\n",
    "\n",
    "Missing values se refiere al caso de tablas de datos incompletas\n",
    "\n",
    "Una fila o columna incompleta es rellenada por pandas con la palabra **NaN**, que puede provenir de un `None` o un tipo `np.nan`\n",
    "\n",
    "Pandas provee funciones para detectar, eliminar o rellenar los NaNs antes de operar"
   ]
  },
  {
   "cell_type": "code",
   "execution_count": null,
   "metadata": {},
   "outputs": [],
   "source": [
    "df = pd.DataFrame([[1, 2, 3, None, 5], \n",
    "                   [np.nan, 1.154, 5.12, 403, \"asd\"], \n",
    "                   [x for x in range(5)]])\n",
    "display(df,\n",
    "        df.dropna(),  # Elimina filas y columnas con NaN\n",
    "        df.dropna(axis='columns', how='any'),\n",
    "        df.fillna(0), # Rellena NaN\n",
    "        df.notnull()) # Mascara booleana, también existe isnull()"
   ]
  },
  {
   "cell_type": "markdown",
   "metadata": {},
   "source": [
    "### Reducciones\n",
    "\n",
    "Las atributos de reducción que vimos para *Series* también se pueden usar con *DataFrames*"
   ]
  },
  {
   "cell_type": "code",
   "execution_count": null,
   "metadata": {},
   "outputs": [],
   "source": [
    "display(df_IPSA.count(),\n",
    "        df_IPSA.sum(),\n",
    "        df_numeric.sum(),\n",
    "        df_numeric.prod(),\n",
    "        df_numeric.std(), \n",
    "        df_numeric.max(),  \n",
    "        df_numeric.idxmax())  "
   ]
  },
  {
   "cell_type": "markdown",
   "metadata": {},
   "source": [
    "### Combinando dataframes\n",
    "\n",
    "Podemos pegar las filas de un dataframe al final de otro usando el atributo `append`"
   ]
  },
  {
   "cell_type": "code",
   "execution_count": null,
   "metadata": {},
   "outputs": [],
   "source": [
    "df1 = pd.DataFrame(np.random.randn(3, 3))\n",
    "df2 = pd.DataFrame(np.random.randn(3, 3))\n",
    "df1.append(df2, ignore_index=False, verify_integrity=False) # Esto retorna un nuevo dataframe"
   ]
  },
  {
   "cell_type": "markdown",
   "metadata": {},
   "source": [
    "Se queremos más flexibilidad podemos usar la función `concat`"
   ]
  },
  {
   "cell_type": "code",
   "execution_count": null,
   "metadata": {},
   "outputs": [],
   "source": [
    "display(pd.concat([df1, df2], axis=0), # concatena en filas, similar a append\n",
    "        pd.concat([df1, df2], axis=1, ignore_index=True), # concatena en columnas\n",
    "        pd.concat([df1, df2], axis=1, keys=['df1', 'df2']))  # Crea un multi-índice"
   ]
  },
  {
   "cell_type": "markdown",
   "metadata": {},
   "source": [
    "Se pueden concatenar dataframes que comparten sólo algunos de sus índices\n",
    "\n",
    "Por defecto los valores que no se alinean se rellenan con NaN\n",
    "\n",
    "Podemos forzar que solo se preserven las filas que tienen en común usando los argumento `join` y/o `join_axes`"
   ]
  },
  {
   "cell_type": "code",
   "execution_count": null,
   "metadata": {},
   "outputs": [],
   "source": [
    "df1 = pd.DataFrame(np.random.randn(5, 2), columns=['a', 'b'])\n",
    "df2 = pd.DataFrame(np.random.randn(5, 2), columns=['a', 'c'])\n",
    "# display(df1)\n",
    "# display(df2)\n",
    "display(pd.concat([df1, df2], sort=False, join='outer'))\n",
    "display(pd.concat([df1, df2], sort=False, join='inner'))\n",
    "display(pd.concat([df1, df2], sort=False, join_axes=[df1.columns]))"
   ]
  },
  {
   "cell_type": "markdown",
   "metadata": {},
   "source": [
    "Para combinar dataframes de acuerdo a sus contenidos usamos la función/atributo [`merge`](https://pandas.pydata.org/pandas-docs/stable/reference/api/pandas.DataFrame.merge.html#pandas.DataFrame.merge)"
   ]
  },
  {
   "cell_type": "code",
   "execution_count": null,
   "metadata": {},
   "outputs": [],
   "source": [
    "df1 = pd.DataFrame({'Alumno': ['Pablo', 'Sebastian', 'Enrique', 'Daniela'], \n",
    "                    'Curso': ['INFO335', 'INFO147', 'INFO147', 'INFO185'],\n",
    "                    'NotaP1': [4., 5., 6., 7.]})\n",
    "df2 = pd.DataFrame({'Alumno': ['Enrique', 'Sebastian', 'Pablo', 'Felipe'], \n",
    "                    'Curso': ['INFO147', 'INFO147', 'INFO335', 'INFO335'],\n",
    "                    'NotaP2': [6., 5., 4., 3.]})\n",
    "display(df1, df2)"
   ]
  },
  {
   "cell_type": "code",
   "execution_count": null,
   "metadata": {},
   "outputs": [],
   "source": [
    "pd.merge(df1, df2) # df1.merge(df2)"
   ]
  },
  {
   "cell_type": "markdown",
   "metadata": {},
   "source": [
    "El argumento `on` nos permite especificar la columna que actua como llave"
   ]
  },
  {
   "cell_type": "code",
   "execution_count": null,
   "metadata": {},
   "outputs": [],
   "source": [
    "pd.merge(df1, df2, on='Alumno', suffixes=[\"_1\", \"_2\"])"
   ]
  },
  {
   "cell_type": "markdown",
   "metadata": {},
   "source": [
    "El argumento `how` nos permite especificar en mayor detalle como unimos los dataframes"
   ]
  },
  {
   "cell_type": "code",
   "execution_count": null,
   "metadata": {},
   "outputs": [],
   "source": [
    "display(pd.merge(df1, df2, how='outer'), # El valor por defecto es inner\n",
    "        pd.merge(df1, df2, how='left')) "
   ]
  },
  {
   "cell_type": "markdown",
   "metadata": {},
   "source": [
    "Merge soporta uniones con distinto número de columnas "
   ]
  },
  {
   "cell_type": "code",
   "execution_count": null,
   "metadata": {},
   "outputs": [],
   "source": [
    "# muchos-a-uno\n",
    "df3 = pd.DataFrame({'Curso': ['INFO335', 'INFO147'], \n",
    "                    'Profesor': ['Cristobal', 'Pablo']})\n",
    "pd.merge(df1, df3)"
   ]
  },
  {
   "cell_type": "code",
   "execution_count": null,
   "metadata": {},
   "outputs": [],
   "source": [
    "# muchos-a-muchos\n",
    "df3 = pd.DataFrame({'Curso': ['INFO335', 'INFO147', 'INFO147'], \n",
    "                    'Profesor': ['Cristobal', 'Pablo', 'ProfesorX']})\n",
    "pd.merge(df1, df3)"
   ]
  },
  {
   "cell_type": "markdown",
   "metadata": {},
   "source": [
    "### Ordenando dataframes"
   ]
  },
  {
   "cell_type": "markdown",
   "metadata": {},
   "source": [
    "Se puede ordernar un dataframes según sus valores usando el atributo `sort_values`\n",
    "\n",
    "El argumento `by` recibe un string o una lista de strings\n",
    "\n",
    "Esto retorna un nuevo dataframe a menos de que se especifique `inplace=True`"
   ]
  },
  {
   "cell_type": "code",
   "execution_count": null,
   "metadata": {},
   "outputs": [],
   "source": [
    "df1.sort_values(by=\"Alumno\")"
   ]
  },
  {
   "cell_type": "markdown",
   "metadata": {},
   "source": [
    "Podemos seleccionar el orden y donde van los NaN"
   ]
  },
  {
   "cell_type": "code",
   "execution_count": null,
   "metadata": {
    "scrolled": true
   },
   "outputs": [],
   "source": [
    "pd.merge(df1, df2, how='left').sort_values(by='NotaP2', ascending=False, na_position='first')"
   ]
  },
  {
   "cell_type": "markdown",
   "metadata": {},
   "source": [
    "También se puede ordenar en los índices (fila o columna) con el atributo  `sort_index`"
   ]
  },
  {
   "cell_type": "code",
   "execution_count": null,
   "metadata": {},
   "outputs": [],
   "source": [
    "df1.sort_index(axis=1, ascending=False).sort_index(axis=0, ascending=False)"
   ]
  },
  {
   "cell_type": "markdown",
   "metadata": {},
   "source": [
    "### Gráficos\n",
    "\n",
    "Se pueden usar gráficos sencillos directamente de un [DataFrame](https://pandas.pydata.org/pandas-docs/stable/reference/api/pandas.DataFrame.plot.html)"
   ]
  },
  {
   "cell_type": "code",
   "execution_count": null,
   "metadata": {},
   "outputs": [],
   "source": [
    "fig, ax = plt.subplots(figsize=(7, 4), tight_layout=True)\n",
    "df_IPSA.plot(x=None, y=[\"Monto M$\", \"% variación\"], \n",
    "             ax=ax, kind='line', subplots=True);"
   ]
  },
  {
   "cell_type": "code",
   "execution_count": null,
   "metadata": {},
   "outputs": [],
   "source": []
  }
 ],
 "metadata": {
  "kernelspec": {
   "display_name": "Python 3",
   "language": "python",
   "name": "python3"
  },
  "language_info": {
   "codemirror_mode": {
    "name": "ipython",
    "version": 3
   },
   "file_extension": ".py",
   "mimetype": "text/x-python",
   "name": "python",
   "nbconvert_exporter": "python",
   "pygments_lexer": "ipython3",
   "version": "3.8.3"
  },
  "toc": {
   "base_numbering": 1,
   "nav_menu": {},
   "number_sections": true,
   "sideBar": true,
   "skip_h1_title": false,
   "title_cell": "Table of Contents",
   "title_sidebar": "Contents",
   "toc_cell": false,
   "toc_position": {},
   "toc_section_display": true,
   "toc_window_display": true
  }
 },
 "nbformat": 4,
 "nbformat_minor": 2
}
