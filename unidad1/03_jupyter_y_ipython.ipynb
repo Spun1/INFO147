{
 "cells": [
  {
   "cell_type": "markdown",
   "metadata": {},
   "source": [
    "## Un ambiente de desarrollo basado en jupyter\n",
    "\n",
    "Utilizando conda creamos un ambiente \n",
    "\n",
    "    conda create -n info147\n",
    "    \n",
    "Lo activamos\n",
    "\n",
    "    conda activate info147\n",
    "    \n",
    "E instalamos jupyter y sus depedencias\n",
    "\n",
    "    conda install jupyter\n",
    "    \n",
    "Para iniciar el servidor escribimos en la terminal\n",
    "\n",
    "    jupyter notebook\n",
    "    \n",
    "Se abrirá una pestaña de navegador (browser) en la dirección\n",
    "\n",
    "    localhost:8888"
   ]
  },
  {
   "cell_type": "markdown",
   "metadata": {},
   "source": [
    "## Explorando los elementos básicos del jupyter notebook\n",
    "\n",
    "- Pestañas: Files, Running y Clusters\n",
    "- Encabezado: File, Edit, View, Insert, Cell, Kernel, Widgets, Help\n",
    "- Tipo de celda: Código y Markdown\n",
    "- Modos: Edición (verde) y Comando (azul)\n",
    "- Atajos de texto (shortcuts)\n",
    "    - Ejecución: Shift+Enter y Ctrl+Enter\n",
    "    - Creación: a y b\n",
    "    - Copiar y pegar celdas: c y  v\n",
    "    - Cambio de tipo: m y y\n",
    "    - Salvar: Ctrl+s\n",
    "- Editor de texto y terminales (solo UNIX)"
   ]
  },
  {
   "cell_type": "markdown",
   "metadata": {},
   "source": [
    "## Editando y ejecutando un bloque de código"
   ]
  },
  {
   "cell_type": "code",
   "execution_count": null,
   "metadata": {},
   "outputs": [],
   "source": [
    "x = 1412043130\n",
    "print(x)"
   ]
  },
  {
   "cell_type": "markdown",
   "metadata": {},
   "source": [
    "## Características del intérprete Python"
   ]
  },
  {
   "cell_type": "code",
   "execution_count": null,
   "metadata": {},
   "outputs": [],
   "source": [
    "import sys\n",
    "print(sys.version_info)\n",
    "print(sys.version)"
   ]
  },
  {
   "cell_type": "markdown",
   "metadata": {},
   "source": [
    "sys queda cargado a nivel de notebook y puede llamarse desde otro bloque"
   ]
  },
  {
   "cell_type": "code",
   "execution_count": null,
   "metadata": {},
   "outputs": [],
   "source": [
    "sys.copyright"
   ]
  },
  {
   "cell_type": "markdown",
   "metadata": {},
   "source": [
    "## Llamando el resultado de un bloque anterior"
   ]
  },
  {
   "cell_type": "code",
   "execution_count": null,
   "metadata": {},
   "outputs": [],
   "source": [
    "x"
   ]
  },
  {
   "cell_type": "code",
   "execution_count": null,
   "metadata": {},
   "outputs": [],
   "source": [
    "#In[6]\n",
    "Out[6]"
   ]
  },
  {
   "cell_type": "markdown",
   "metadata": {},
   "source": [
    "Se puede usar ; para suprimir el output de un bloque"
   ]
  },
  {
   "cell_type": "code",
   "execution_count": null,
   "metadata": {},
   "outputs": [],
   "source": [
    "x;"
   ]
  },
  {
   "cell_type": "markdown",
   "metadata": {},
   "source": [
    "## Pidiendo ayuda"
   ]
  },
  {
   "cell_type": "code",
   "execution_count": null,
   "metadata": {},
   "outputs": [],
   "source": [
    "# Ayuda de ipython\n",
    "?"
   ]
  },
  {
   "cell_type": "code",
   "execution_count": null,
   "metadata": {},
   "outputs": [],
   "source": [
    "# Para un módulo o función en específico\n",
    "sys?"
   ]
  },
  {
   "cell_type": "code",
   "execution_count": null,
   "metadata": {},
   "outputs": [],
   "source": [
    "# Ayuda librería estándar de python\n",
    "help(sys)"
   ]
  },
  {
   "cell_type": "code",
   "execution_count": null,
   "metadata": {},
   "outputs": [],
   "source": [
    "#Accediendo a código fuente\n",
    "\n",
    "def funcion_interesante(x, y):\n",
    "    \"\"\"\n",
    "    Esta es una función interesante que suma sus argumentos\n",
    "    Argumentos: x, y\n",
    "    \"\"\"\n",
    "    return x + y\n",
    "\n",
    "funcion_interesante??"
   ]
  },
  {
   "cell_type": "markdown",
   "metadata": {},
   "source": [
    "## Autocompletación con TAB (IPython)"
   ]
  },
  {
   "cell_type": "code",
   "execution_count": null,
   "metadata": {},
   "outputs": [],
   "source": [
    "mi_variable_interesante = '13'"
   ]
  },
  {
   "cell_type": "code",
   "execution_count": null,
   "metadata": {},
   "outputs": [],
   "source": [
    "path = '/home/'"
   ]
  },
  {
   "cell_type": "markdown",
   "metadata": {},
   "source": [
    "## \"Magias\" de IPython"
   ]
  },
  {
   "cell_type": "markdown",
   "metadata": {},
   "source": [
    "Las \"magias\" son"
   ]
  },
  {
   "cell_type": "code",
   "execution_count": null,
   "metadata": {
    "scrolled": true
   },
   "outputs": [],
   "source": [
    "%lsmagic"
   ]
  },
  {
   "cell_type": "markdown",
   "metadata": {},
   "source": [
    "Midiendo el tiempo de un bloque (o de una linea)"
   ]
  },
  {
   "cell_type": "code",
   "execution_count": null,
   "metadata": {},
   "outputs": [],
   "source": [
    "%%time \n",
    "a = ''\n",
    "for i in range(10):\n",
    "    a += str(i)\n",
    "print(a)"
   ]
  },
  {
   "cell_type": "markdown",
   "metadata": {},
   "source": [
    "Las variables y librerías que hemos importado a nuestro entorno"
   ]
  },
  {
   "cell_type": "code",
   "execution_count": null,
   "metadata": {
    "scrolled": true
   },
   "outputs": [],
   "source": [
    "%who"
   ]
  },
  {
   "cell_type": "markdown",
   "metadata": {},
   "source": [
    "Los comandos que hemos escrito"
   ]
  },
  {
   "cell_type": "code",
   "execution_count": null,
   "metadata": {},
   "outputs": [],
   "source": [
    "%history"
   ]
  },
  {
   "cell_type": "markdown",
   "metadata": {},
   "source": [
    "Reseteando nuestro entorno "
   ]
  },
  {
   "cell_type": "code",
   "execution_count": null,
   "metadata": {},
   "outputs": [],
   "source": [
    "%reset"
   ]
  },
  {
   "cell_type": "markdown",
   "metadata": {},
   "source": [
    "Seteando una variable de entorno"
   ]
  },
  {
   "cell_type": "code",
   "execution_count": null,
   "metadata": {},
   "outputs": [],
   "source": [
    "%env OMP_NUM_THREADS=4"
   ]
  },
  {
   "cell_type": "markdown",
   "metadata": {},
   "source": [
    "## Accediendo al sistema operativo"
   ]
  },
  {
   "cell_type": "markdown",
   "metadata": {},
   "source": [
    "Usando el operador ! podemos hacer llamados al SO dentro de nuestros bloques de código"
   ]
  },
  {
   "cell_type": "code",
   "execution_count": null,
   "metadata": {
    "scrolled": true
   },
   "outputs": [],
   "source": [
    "!pwd\n",
    "!echo $mi_variable_interesante\n",
    "!cat script_interesante.py"
   ]
  },
  {
   "cell_type": "markdown",
   "metadata": {},
   "source": [
    "O usando la magía %%bash "
   ]
  },
  {
   "cell_type": "code",
   "execution_count": 2,
   "metadata": {},
   "outputs": [
    {
     "name": "stdout",
     "output_type": "stream",
     "text": [
      "Estoy usando: /usr/bin/zsh\n",
      "Mi path es: /usr/local/sbin:/usr/local/bin:/usr/bin\n",
      "              total        used        free      shared  buff/cache   available\n",
      "Mem:          31995        6386        5509        1975       20100       23178\n",
      "Swap:             0           0           0\n",
      "Filesystem      Size  Used Avail Use% Mounted on\n",
      "dev              16G     0   16G   0% /dev\n",
      "run              16G  1.3M   16G   1% /run\n",
      "/dev/sdb2       219G   46G  162G  22% /\n",
      "tmpfs            16G  493M   16G   4% /dev/shm\n",
      "tmpfs            16G     0   16G   0% /sys/fs/cgroup\n",
      "tmpfs            16G   64M   16G   1% /tmp\n",
      "/dev/sdb1       511M   53M  459M  11% /boot\n",
      "/dev/sda1       3.6T  1.9T  1.6T  55% /home\n",
      "tmpfs           3.2G   76K  3.2G   1% /run/user/1000\n"
     ]
    }
   ],
   "source": [
    "%%bash\n",
    "echo \"Estoy usando:\" $SHELL\n",
    "echo \"Mi path es:\" $PATH\n",
    "free -m\n",
    "df -h"
   ]
  },
  {
   "cell_type": "markdown",
   "metadata": {},
   "source": [
    "Podemos capturar el retorno de las funciónes llamadas con !"
   ]
  },
  {
   "cell_type": "code",
   "execution_count": null,
   "metadata": {},
   "outputs": [],
   "source": [
    "lista_archivos = !ls\n",
    "\n",
    "print(lista_archivos)"
   ]
  },
  {
   "cell_type": "markdown",
   "metadata": {},
   "source": [
    "Consola UNIX, funciones básicas:\n",
    "\n",
    "    pwd\n",
    "    ls\n",
    "    rm\n",
    "    cd\n",
    "    cp\n",
    "    echo\n",
    "    touch\n",
    "    mkdir\n",
    "    rmdir\n",
    "    cat\n",
    "    head\n",
    "    tail\n",
    "    more\n",
    "    "
   ]
  },
  {
   "cell_type": "markdown",
   "metadata": {},
   "source": [
    "## Corriendo un script Python externo"
   ]
  },
  {
   "cell_type": "code",
   "execution_count": null,
   "metadata": {},
   "outputs": [],
   "source": [
    "%run script_interesante.py"
   ]
  },
  {
   "cell_type": "code",
   "execution_count": null,
   "metadata": {},
   "outputs": [],
   "source": [
    "1*2*3*4*5*6*7*8*9*10"
   ]
  },
  {
   "cell_type": "code",
   "execution_count": null,
   "metadata": {},
   "outputs": [],
   "source": [
    "from script_interesante import funcion_interesante\n",
    "\n",
    "funcion_interesante(10)"
   ]
  },
  {
   "cell_type": "code",
   "execution_count": null,
   "metadata": {},
   "outputs": [],
   "source": [
    "%run -p script_interesante.py"
   ]
  },
  {
   "cell_type": "markdown",
   "metadata": {},
   "source": [
    "## Importando dinamicamente una libreria"
   ]
  },
  {
   "cell_type": "code",
   "execution_count": null,
   "metadata": {},
   "outputs": [],
   "source": [
    "from script_interesante import funcion_interesante\n",
    "funcion_interesante(10)"
   ]
  },
  {
   "cell_type": "code",
   "execution_count": 3,
   "metadata": {},
   "outputs": [
    {
     "name": "stdout",
     "output_type": "stream",
     "text": [
      "The autoreload extension is already loaded. To reload it, use:\n",
      "  %reload_ext autoreload\n"
     ]
    }
   ],
   "source": [
    "%load_ext autoreload\n",
    "%autoreload 0\n",
    "%autoreload?"
   ]
  },
  {
   "cell_type": "markdown",
   "metadata": {},
   "source": [
    "## Errores y debugging"
   ]
  },
  {
   "cell_type": "code",
   "execution_count": null,
   "metadata": {},
   "outputs": [],
   "source": [
    "pablohuijse"
   ]
  },
  {
   "cell_type": "code",
   "execution_count": null,
   "metadata": {},
   "outputs": [],
   "source": [
    "import sys \n",
    "sys.pablohuijse"
   ]
  },
  {
   "cell_type": "code",
   "execution_count": null,
   "metadata": {},
   "outputs": [],
   "source": [
    "#%debug\n",
    "a = [1, 2, 3, 4]\n",
    "a[10] "
   ]
  },
  {
   "cell_type": "code",
   "execution_count": null,
   "metadata": {},
   "outputs": [],
   "source": [
    "def funcion_mala(x):\n",
    "    return x/0\n",
    "\n",
    "funcion_mala(10)"
   ]
  },
  {
   "cell_type": "code",
   "execution_count": null,
   "metadata": {},
   "outputs": [],
   "source": [
    "try:\n",
    "    a = 10/0\n",
    "except ZeroDivisionError:\n",
    "    print(\"Dividiste por cero!\")"
   ]
  },
  {
   "cell_type": "markdown",
   "metadata": {},
   "source": [
    "## Bloques de texto enriquecido (markdown)"
   ]
  },
  {
   "cell_type": "markdown",
   "metadata": {},
   "source": [
    "*itálica*\n",
    "\n",
    "**bold**\n",
    "\n",
    "~~strikethrough~~\n",
    "\n",
    "- una cosa\n",
    "- otra cosa\n",
    "- y una más\n",
    "\n",
    "\n",
    "1. una cosa\n",
    "1. otra cosa\n",
    "1. y una más\n",
    "\n",
    "\n",
    "# Header 1\n",
    "## Header 2\n",
    "### Header 3\n",
    "\n",
    "\n",
    "[link](http://www.duckduckgo.com)\n",
    "\n",
    "***\n",
    "\n",
    "\n",
    "> Un parrafo\n",
    "\n",
    "\n",
    "`un comando`\n",
    "\n",
    "\n",
    "    def funcion_interesante(x):\n",
    "        print(x)\n",
    "        \n",
    "$$\n",
    "\\begin{align}\n",
    "\\mathcal{Q}(t) &= \\frac{\\partial}{\\partial t} \\int_{t \\in \\mathbb{R}} \\sin(2 \\pi t + \\phi) \\,dt \\nonumber \\\\\n",
    "&= \\LaTeX\n",
    "\\end{align}\n",
    "$$\n",
    "\n",
    "\n",
    "\n",
    "<center><font color=\"#FF0000\"><br>Hola<br></font></center>"
   ]
  },
  {
   "cell_type": "markdown",
   "metadata": {},
   "source": [
    "## Modificando la apariencia del notebook"
   ]
  },
  {
   "cell_type": "code",
   "execution_count": null,
   "metadata": {},
   "outputs": [],
   "source": [
    "%%HTML\n",
    "<style>\n",
    ".container {\n",
    "    width:70% ! important;\n",
    "}\n",
    ".rendered_html { \n",
    "    font-size:1.0em; \n",
    "}\n",
    "</style>"
   ]
  },
  {
   "cell_type": "markdown",
   "metadata": {},
   "source": [
    "## Exportando el notebook"
   ]
  }
 ],
 "metadata": {
  "kernelspec": {
   "display_name": "Python 3",
   "language": "python",
   "name": "python3"
  },
  "language_info": {
   "codemirror_mode": {
    "name": "ipython",
    "version": 3
   },
   "file_extension": ".py",
   "mimetype": "text/x-python",
   "name": "python",
   "nbconvert_exporter": "python",
   "pygments_lexer": "ipython3",
   "version": "3.8.1"
  }
 },
 "nbformat": 4,
 "nbformat_minor": 2
}
