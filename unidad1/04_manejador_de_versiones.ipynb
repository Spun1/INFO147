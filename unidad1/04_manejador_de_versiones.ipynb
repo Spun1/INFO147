{
 "cells": [
  {
   "cell_type": "markdown",
   "metadata": {},
   "source": [
    "# Mantener un proyecto con manejador de versiones [Git](http://github.com)\n",
    "\n"
   ]
  },
  {
   "cell_type": "markdown",
   "metadata": {},
   "source": [
    "Hacer una versión local de un repositorio remoto en un directorio dado\n",
    "    \n",
    "    git clone https://github.com/user/repo\n",
    "    \n",
    "Se crea una nueva carpeta llamada *repo*"
   ]
  },
  {
   "cell_type": "markdown",
   "metadata": {},
   "source": [
    "Actualizar el contenido de un repositorio local\n",
    "\n",
    "    git pull"
   ]
  },
  {
   "cell_type": "markdown",
   "metadata": {},
   "source": [
    "Haciendo un *commit*: Actualizar el contenido de un repositorio remoto\n",
    "\n",
    "    git add .\n",
    "    git commit - m \"Un mensaje para explicar el cambio que hice\"\n",
    "    git push"
   ]
  },
  {
   "cell_type": "markdown",
   "metadata": {},
   "source": [
    "Modificar el mensaje de un *commit*\n",
    "\n",
    "    git commit --ammend"
   ]
  },
  {
   "cell_type": "markdown",
   "metadata": {},
   "source": [
    "Ver el historico de *commits* en un repositorio local\n",
    "\n",
    "    git log\n",
    "    \n",
    "- La opción `--stat` muestra los archivos cambiaron\n",
    "- La opción `--patch` muestra las líneas agregadas/eliminadas"
   ]
  },
  {
   "cell_type": "markdown",
   "metadata": {},
   "source": [
    "Mostrar las ramas de un repositorio local\n",
    "\n",
    "    git branch -a"
   ]
  },
  {
   "cell_type": "markdown",
   "metadata": {},
   "source": [
    "Cambiar a una rama especifica\n",
    "\n",
    "    git checkout nombre_rama"
   ]
  },
  {
   "cell_type": "markdown",
   "metadata": {},
   "source": [
    "- Setear un tiempo de olvido para el password\n",
    "- Setear un usuario por defecto\n",
    "- Configurar el editor de texto preferido\n",
    "- Otros manejadores de versiones"
   ]
  },
  {
   "cell_type": "markdown",
   "metadata": {},
   "source": [
    "\n",
    "Lectura y manipulación de datos usando Numpy y Pandas\n",
    "\n",
    "Serialización\n",
    "\n",
    "Jupyter widgets\n",
    "\n",
    "Manteniendo un repositorio en github\n",
    "\n",
    "https://happygitwithr.com/credential-caching.html\n",
    "\n",
    "https://github.com/IACS-CS-207/cs207-F18/blob/master/lectures/L02/L2.ipynb\n",
    "\n",
    "https://www.analyticsvidhya.com/blog/2017/01/the-most-comprehensive-data-science-learning-plan-for-2017/\n",
    "\n",
    "https://github.com/astroCV/astroCV/blob/master/tutorials/01%20Introduction%20to%20computer%20vision.ipynb"
   ]
  },
  {
   "cell_type": "code",
   "execution_count": null,
   "metadata": {},
   "outputs": [],
   "source": []
  }
 ],
 "metadata": {
  "kernelspec": {
   "display_name": "Python 3",
   "language": "python",
   "name": "python3"
  },
  "language_info": {
   "codemirror_mode": {
    "name": "ipython",
    "version": 3
   },
   "file_extension": ".py",
   "mimetype": "text/x-python",
   "name": "python",
   "nbconvert_exporter": "python",
   "pygments_lexer": "ipython3",
   "version": "3.7.3"
  }
 },
 "nbformat": 4,
 "nbformat_minor": 2
}
