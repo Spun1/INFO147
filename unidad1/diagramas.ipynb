{
 "cells": [
  {
   "cell_type": "code",
   "execution_count": 1,
   "metadata": {},
   "outputs": [],
   "source": [
    "from IPython.display import SVG"
   ]
  },
  {
   "cell_type": "code",
   "execution_count": 12,
   "metadata": {},
   "outputs": [
    {
     "name": "stdout",
     "output_type": "stream",
     "text": [
      "Overwriting img/intro.diag\n"
     ]
    }
   ],
   "source": [
    "%%file img/intro.diag\n",
    "blockdiag {\n",
    "    #orientation = portrait\n",
    "    default_fontsize = 12; \n",
    "    A [label=\"Jupyter\"]\n",
    "    B [label=\"IPython\"]\n",
    "    C [label=\"NumPy/pandas/Scipy\"]\n",
    "    D [label=\"BLAS/LAPACK/MKL\"]\n",
    "    A -> B \n",
    "    B -> C \n",
    "    C -> D [style = \"dashed\"]\n",
    "\n",
    "}"
   ]
  },
  {
   "cell_type": "code",
   "execution_count": 13,
   "metadata": {},
   "outputs": [],
   "source": [
    "!blockdiag -Tsvg img/intro.diag"
   ]
  },
  {
   "cell_type": "code",
   "execution_count": 14,
   "metadata": {},
   "outputs": [
    {
     "data": {
      "image/svg+xml": [
       "<svg xmlns=\"http://www.w3.org/2000/svg\" xmlns:inkspace=\"http://www.inkscape.org/namespaces/inkscape\" xmlns:xlink=\"http://www.w3.org/1999/xlink\" viewBox=\"0 0 832 120\">\n",
       "  <defs id=\"defs_block\">\n",
       "    <filter height=\"1.504\" id=\"filter_blur\" inkspace:collect=\"always\" width=\"1.1575\" x=\"-0.07875\" y=\"-0.252\">\n",
       "      <feGaussianBlur id=\"feGaussianBlur3780\" inkspace:collect=\"always\" stdDeviation=\"4.2\"/>\n",
       "    </filter>\n",
       "  </defs>\n",
       "  <title>blockdiag</title>\n",
       "  <desc>blockdiag {\n",
       "    #orientation = portrait\n",
       "    default_fontsize = 12; \n",
       "    A [label=&quot;Jupyter&quot;]\n",
       "    B [label=&quot;IPython&quot;]\n",
       "    C [label=&quot;NumPy/pandas/Scipy&quot;]\n",
       "    D [label=&quot;BLAS/LAPACK/MKL&quot;]\n",
       "    A -&gt; B \n",
       "    B -&gt; C \n",
       "    C -&gt; D [style = &quot;dashed&quot;]\n",
       "\n",
       "}\n",
       "</desc>\n",
       "  <rect fill=\"rgb(0,0,0)\" height=\"40\" stroke=\"rgb(0,0,0)\" style=\"filter:url(#filter_blur);opacity:0.7;fill-opacity:1\" width=\"128\" x=\"67\" y=\"46\"/>\n",
       "  <rect fill=\"rgb(0,0,0)\" height=\"40\" stroke=\"rgb(0,0,0)\" style=\"filter:url(#filter_blur);opacity:0.7;fill-opacity:1\" width=\"128\" x=\"259\" y=\"46\"/>\n",
       "  <rect fill=\"rgb(0,0,0)\" height=\"40\" stroke=\"rgb(0,0,0)\" style=\"filter:url(#filter_blur);opacity:0.7;fill-opacity:1\" width=\"128\" x=\"451\" y=\"46\"/>\n",
       "  <rect fill=\"rgb(0,0,0)\" height=\"40\" stroke=\"rgb(0,0,0)\" style=\"filter:url(#filter_blur);opacity:0.7;fill-opacity:1\" width=\"128\" x=\"643\" y=\"46\"/>\n",
       "  <rect fill=\"rgb(255,255,255)\" height=\"40\" stroke=\"rgb(0,0,0)\" width=\"128\" x=\"64\" y=\"40\"/>\n",
       "  <text fill=\"rgb(0,0,0)\" font-family=\"sans-serif\" font-size=\"12\" font-style=\"normal\" font-weight=\"normal\" text-anchor=\"middle\" textLength=\"45\" x=\"128.5\" y=\"66\">Jupyter</text>\n",
       "  <rect fill=\"rgb(255,255,255)\" height=\"40\" stroke=\"rgb(0,0,0)\" width=\"128\" x=\"256\" y=\"40\"/>\n",
       "  <text fill=\"rgb(0,0,0)\" font-family=\"sans-serif\" font-size=\"12\" font-style=\"normal\" font-weight=\"normal\" text-anchor=\"middle\" textLength=\"45\" x=\"320.5\" y=\"66\">IPython</text>\n",
       "  <rect fill=\"rgb(255,255,255)\" height=\"40\" stroke=\"rgb(0,0,0)\" width=\"128\" x=\"448\" y=\"40\"/>\n",
       "  <text fill=\"rgb(0,0,0)\" font-family=\"sans-serif\" font-size=\"12\" font-style=\"normal\" font-weight=\"normal\" text-anchor=\"middle\" textLength=\"117\" x=\"512.5\" y=\"66\">NumPy/pandas/Scipy</text>\n",
       "  <rect fill=\"rgb(255,255,255)\" height=\"40\" stroke=\"rgb(0,0,0)\" width=\"128\" x=\"640\" y=\"40\"/>\n",
       "  <text fill=\"rgb(0,0,0)\" font-family=\"sans-serif\" font-size=\"12\" font-style=\"normal\" font-weight=\"normal\" text-anchor=\"middle\" textLength=\"98\" x=\"704.0\" y=\"66\">BLAS/LAPACK/MKL</text>\n",
       "  <path d=\"M 192 60 L 248 60\" fill=\"none\" stroke=\"rgb(0,0,0)\"/>\n",
       "  <polygon fill=\"rgb(0,0,0)\" points=\"255,60 248,56 248,64 255,60\" stroke=\"rgb(0,0,0)\"/>\n",
       "  <path d=\"M 384 60 L 440 60\" fill=\"none\" stroke=\"rgb(0,0,0)\"/>\n",
       "  <polygon fill=\"rgb(0,0,0)\" points=\"447,60 440,56 440,64 447,60\" stroke=\"rgb(0,0,0)\"/>\n",
       "  <path d=\"M 576 60 L 632 60\" fill=\"none\" stroke=\"rgb(0,0,0)\" stroke-dasharray=\"4\"/>\n",
       "  <polygon fill=\"rgb(0,0,0)\" points=\"639,60 632,56 632,64 639,60\" stroke=\"rgb(0,0,0)\"/>\n",
       "</svg>"
      ],
      "text/plain": [
       "<IPython.core.display.SVG object>"
      ]
     },
     "execution_count": 14,
     "metadata": {},
     "output_type": "execute_result"
    }
   ],
   "source": [
    "SVG(\"img/intro.svg\")"
   ]
  },
  {
   "cell_type": "code",
   "execution_count": null,
   "metadata": {},
   "outputs": [],
   "source": [
    "%%file img/groupby.diag\n",
    "blockdiag {\n",
    "    #orientation = portrait\n",
    "    default_fontsize = 14; \n",
    "    A [label=\"SPLIT\"]\n",
    "    B [label=\"APPLY\"]\n",
    "    C [label=\"COMBINE\"]\n",
    "    A -> B \n",
    "    B -> C \n",
    "    group {\n",
    "          color = \"#CCCCCC\";\n",
    "          fontsize = 20;\n",
    "          \n",
    "          A -> B;\n",
    "          B -> C; \n",
    "      }\n",
    "\n",
    "}"
   ]
  },
  {
   "cell_type": "code",
   "execution_count": null,
   "metadata": {},
   "outputs": [],
   "source": [
    "!~/.local/bin/blockdiag -Tsvg img/groupby.diag"
   ]
  },
  {
   "cell_type": "code",
   "execution_count": null,
   "metadata": {},
   "outputs": [],
   "source": [
    "SVG(\"img/groupby.svg\")"
   ]
  },
  {
   "cell_type": "code",
   "execution_count": null,
   "metadata": {},
   "outputs": [],
   "source": []
  }
 ],
 "metadata": {
  "kernelspec": {
   "display_name": "Python 3",
   "language": "python",
   "name": "python3"
  },
  "language_info": {
   "codemirror_mode": {
    "name": "ipython",
    "version": 3
   },
   "file_extension": ".py",
   "mimetype": "text/x-python",
   "name": "python",
   "nbconvert_exporter": "python",
   "pygments_lexer": "ipython3",
   "version": "3.8.1"
  }
 },
 "nbformat": 4,
 "nbformat_minor": 2
}
